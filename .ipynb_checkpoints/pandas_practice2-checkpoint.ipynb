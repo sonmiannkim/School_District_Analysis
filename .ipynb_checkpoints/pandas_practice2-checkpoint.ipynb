{
 "cells": [
  {
   "cell_type": "code",
   "execution_count": 28,
   "id": "cc6a5850",
   "metadata": {},
   "outputs": [],
   "source": [
    "import pandas as pd\n",
    "#import os"
   ]
  },
  {
   "cell_type": "code",
   "execution_count": null,
   "id": "3f46c373",
   "metadata": {},
   "outputs": [],
   "source": [
    "student_sv_file_to_read = \"resources/students_complete.csv\"\n",
    "school_csv_file_to_read = \"resources/schools_complete.csv\"\n",
    "\n",
    "#student_data_to_load = os.path.join(\"Resources\", \"students_complete.csv\")"
   ]
  },
  {
   "cell_type": "code",
   "execution_count": 30,
   "id": "088320c0",
   "metadata": {},
   "outputs": [],
   "source": [
    "students_df = pd.read_csv(student_sv_file_to_read)\n",
    "school_df = pd.read_csv(school_csv_file_to_read)"
   ]
  },
  {
   "cell_type": "code",
   "execution_count": 31,
   "id": "de4f8e66",
   "metadata": {},
   "outputs": [],
   "source": [
    "school_data_complete_df = pd.merge(students_df, school_df, on=[\"school_name\", \"school_name\"])"
   ]
  }
 ],
 "metadata": {
  "kernelspec": {
   "display_name": "PythonData",
   "language": "python",
   "name": "pythondata"
  },
  "language_info": {
   "codemirror_mode": {
    "name": "ipython",
    "version": 3
   },
   "file_extension": ".py",
   "mimetype": "text/x-python",
   "name": "python",
   "nbconvert_exporter": "python",
   "pygments_lexer": "ipython3",
   "version": "3.7.11"
  }
 },
 "nbformat": 4,
 "nbformat_minor": 5
}
