{
 "cells": [
  {
   "cell_type": "code",
   "execution_count": null,
   "id": "06ff999f",
   "metadata": {},
   "outputs": [],
   "source": [
    "import pandas as pd\n",
    "import os\n",
    "\n",
    "\n"
   ]
  },
  {
   "cell_type": "code",
   "execution_count": null,
   "id": "d6831f32",
   "metadata": {},
   "outputs": [],
   "source": [
    "#Read the school data file and store it in a Pandas DataFrame.\n",
    "school_data_to_load = \"resources/schools_complete.csv\"\n",
    "school_data_df = pd.read_csv(school_data_to_load)\n",
    "school_data_df.head()"
   ]
  },
  {
   "cell_type": "code",
   "execution_count": null,
   "id": "e460f635",
   "metadata": {},
   "outputs": [],
   "source": [
    "student_data_to_load = \"resources/clean_students_complete.csv\"\n",
    "student_data_df = pd.read_csv(student_data_to_load)\n",
    "student_data_df.tail()"
   ]
  },
  {
   "cell_type": "code",
   "execution_count": null,
   "id": "50ee3ffd",
   "metadata": {},
   "outputs": [],
   "source": [
    "school_data_complete_df = pd.merge(student_data_df, school_data_df, on=[\"school_name\", \"school_name\"], left_index=False)\n",
    "school_data_complete_df.drop(school_data_complete_df.filter(regex=\"Unname\"), axis=1, inplace=True)\n",
    "school_data_complete_df.head()"
   ]
  },
  {
   "cell_type": "code",
   "execution_count": null,
   "id": "cb7f65c7",
   "metadata": {},
   "outputs": [],
   "source": [
    "student_count = school_data_complete_df.count()\n",
    "student_count"
   ]
  },
  {
   "cell_type": "code",
   "execution_count": null,
   "id": "252fa5a3",
   "metadata": {},
   "outputs": [],
   "source": [
    "school_data_complete_df['student_name'].count()"
   ]
  },
  {
   "cell_type": "code",
   "execution_count": null,
   "id": "84814362",
   "metadata": {},
   "outputs": [],
   "source": [
    "school_data_complete_df['Student ID'].count()"
   ]
  },
  {
   "cell_type": "code",
   "execution_count": null,
   "id": "2fd74fb5",
   "metadata": {},
   "outputs": [],
   "source": [
    "school_count = school_data_df[\"school_name\"].count()\n",
    "school_count"
   ]
  },
  {
   "cell_type": "code",
   "execution_count": null,
   "id": "980613a9",
   "metadata": {},
   "outputs": [],
   "source": [
    "school_count_2 = len(school_data_complete_df[\"school_name\"].unique())"
   ]
  },
  {
   "cell_type": "code",
   "execution_count": null,
   "id": "8e7ae431",
   "metadata": {},
   "outputs": [],
   "source": [
    "school_count_2"
   ]
  },
  {
   "cell_type": "code",
   "execution_count": null,
   "id": "e59bae7e",
   "metadata": {},
   "outputs": [],
   "source": [
    "total_budget = '${:,.2f}'.format(sum(school_data_df[\"budget\"]))\n",
    "total_budget"
   ]
  },
  {
   "cell_type": "code",
   "execution_count": null,
   "id": "467f131d",
   "metadata": {},
   "outputs": [],
   "source": [
    "average_reading_score = school_data_complete_df[\"reading_score\"].mean()\n",
    "average_reading_score"
   ]
  },
  {
   "cell_type": "code",
   "execution_count": null,
   "id": "849eca31",
   "metadata": {},
   "outputs": [],
   "source": [
    "average_math_score = school_data_complete_df[\"math_score\"].mean()\n",
    "average_math_score"
   ]
  },
  {
   "cell_type": "code",
   "execution_count": null,
   "id": "d8a219a5",
   "metadata": {},
   "outputs": [],
   "source": [
    "passing_reading_count = (school_data_complete_df[\"reading_score\"]>= 70).sum()\n",
    "passing_reading_count"
   ]
  },
  {
   "cell_type": "code",
   "execution_count": null,
   "id": "d61b85c3",
   "metadata": {},
   "outputs": [],
   "source": [
    "passing_math_count = (school_data_complete_df[\"math_score\"]>= 70).sum()\n",
    "passing_math_count "
   ]
  },
  {
   "cell_type": "code",
   "execution_count": null,
   "id": "b5f62cc9",
   "metadata": {},
   "outputs": [],
   "source": [
    "passing_math = school_data_complete_df[school_data_complete_df[\"math_score\"] >= 70]\n",
    "passing_math.head()\n",
    "passing_math['student_name'].count()"
   ]
  },
  {
   "cell_type": "code",
   "execution_count": null,
   "id": "b53e45a1",
   "metadata": {},
   "outputs": [],
   "source": [
    "print(passing_math_count)\n",
    "print(passing_reading_count)"
   ]
  },
  {
   "cell_type": "code",
   "execution_count": null,
   "id": "dff009fb",
   "metadata": {},
   "outputs": [],
   "source": [
    "student_count = school_data_complete_df['Student ID'].count()\n",
    "student_count"
   ]
  },
  {
   "cell_type": "code",
   "execution_count": null,
   "id": "0e619e6c",
   "metadata": {},
   "outputs": [],
   "source": [
    "passing_math_percentage = passing_math_count / float(student_count) * 100\n",
    "passing_reading_percentage = passing_reading_count / float(student_count) * 100"
   ]
  },
  {
   "cell_type": "code",
   "execution_count": null,
   "id": "83ec9383",
   "metadata": {},
   "outputs": [],
   "source": [
    "print(passing_math_percentage)\n",
    "print(passing_reading_percentage)"
   ]
  },
  {
   "cell_type": "code",
   "execution_count": null,
   "id": "5553ae59",
   "metadata": {},
   "outputs": [],
   "source": [
    "passing_math_reading = school_data_complete_df[(school_data_complete_df[\"math_score\"]>= 70) & (school_data_complete_df[\"reading_score\"]>= 70)]\n",
    "passing_math_reading.head()"
   ]
  },
  {
   "cell_type": "code",
   "execution_count": null,
   "id": "29477ca5",
   "metadata": {},
   "outputs": [],
   "source": [
    "passing_math_reading['student_name'].count()"
   ]
  },
  {
   "cell_type": "code",
   "execution_count": null,
   "id": "b4fe494b",
   "metadata": {},
   "outputs": [],
   "source": [
    "passing_math_reading.student_name.count()"
   ]
  },
  {
   "cell_type": "code",
   "execution_count": null,
   "id": "d6301860",
   "metadata": {},
   "outputs": [],
   "source": [
    "overall_passing_math_reading_count = passing_math_reading[\"student_name\"].count()\n",
    "overall_passing_math_reading_count / student_count * 100\n"
   ]
  },
  {
   "cell_type": "code",
   "execution_count": null,
   "id": "7da9455d",
   "metadata": {},
   "outputs": [],
   "source": [
    "overall_passing_percentage = overall_passing_math_reading_count / student_count * 100\n",
    "overall_passing_percentage"
   ]
  },
  {
   "cell_type": "code",
   "execution_count": null,
   "id": "acea3827",
   "metadata": {},
   "outputs": [],
   "source": [
    "district_summary_df = pd.DataFrame(\n",
    "          [{\"Total Schools\": school_count,\n",
    "          \"Total Students\": student_count,\n",
    "          \"Total Budget\": total_budget,\n",
    "          \"Average Math Score\": average_math_score,\n",
    "          \"Average Reading Score\": average_reading_score,\n",
    "          \"% Passing Math\": passing_math_percentage,\n",
    "         \"% Passing Reading\": passing_reading_percentage,\n",
    "        \"% Overall Passing\": overall_passing_percentage}])\n",
    "\n",
    "district_summary_df"
   ]
  },
  {
   "cell_type": "code",
   "execution_count": null,
   "id": "68541c84",
   "metadata": {},
   "outputs": [],
   "source": [
    "district_summary_df[\"Total Students\"] = district_summary_df[\"Total Students\"].map(\"{:,}\".format)\n",
    "district_summary_df[\"Total Students\"]"
   ]
  },
  {
   "cell_type": "code",
   "execution_count": null,
   "id": "0848dea1",
   "metadata": {},
   "outputs": [],
   "source": [
    "district_summary_df"
   ]
  },
  {
   "cell_type": "code",
   "execution_count": null,
   "id": "7ffeeaaa",
   "metadata": {},
   "outputs": [],
   "source": [
    "district_summary_df.dtypes"
   ]
  },
  {
   "cell_type": "code",
   "execution_count": null,
   "id": "18abeeae",
   "metadata": {},
   "outputs": [],
   "source": [
    "district_summary_df[\"% Overall Passing\"] = district_summary_df[\"% Overall Passing\"].map(\"{:.0f}\".format)"
   ]
  },
  {
   "cell_type": "code",
   "execution_count": null,
   "id": "93bf77f9",
   "metadata": {},
   "outputs": [],
   "source": [
    "district_summary_df[\"% Passing Reading\"] = district_summary_df[\"% Passing Reading\"].map(\"{:.0f}\".format)"
   ]
  },
  {
   "cell_type": "code",
   "execution_count": null,
   "id": "12373307",
   "metadata": {},
   "outputs": [],
   "source": [
    "district_summary_df[\"% Passing Math\"] = district_summary_df[\"% Passing Math\"].map(\"{:.0f}\".format)"
   ]
  },
  {
   "cell_type": "code",
   "execution_count": null,
   "id": "ab15eca8",
   "metadata": {},
   "outputs": [],
   "source": [
    "district_summary_df[\"Average Reading Score\"] = district_summary_df[\"Average Reading Score\"].astype(float, errors = 'raise')\n",
    "district_summary_df[\"Average Reading Score\"] = district_summary_df[\"Average Reading Score\"].map(\"{:.1f}\".format)"
   ]
  },
  {
   "cell_type": "code",
   "execution_count": null,
   "id": "0ac5d7cd",
   "metadata": {},
   "outputs": [],
   "source": [
    "district_summary_df[\"Average Math Score\"] = district_summary_df[\"Average Math Score\"].astype(float, errors = 'raise')\n",
    "district_summary_df[\"Average Math Score\"] = district_summary_df[\"Average Math Score\"].map(\"{:.1f}\".format)"
   ]
  },
  {
   "cell_type": "code",
   "execution_count": null,
   "id": "9d7a221e",
   "metadata": {},
   "outputs": [],
   "source": [
    "district_summary_df"
   ]
  },
  {
   "cell_type": "code",
   "execution_count": null,
   "id": "7cbbd821",
   "metadata": {},
   "outputs": [],
   "source": [
    "new_column_order = [\"Total Schools\", \"Total Students\", \"Total Budget\",\"Average Math Score\", \"Average Reading Score\", \"% Passing Math\", \"% Passing Reading\", \"% Overall Passing\"]\n",
    "district_summary_df = district_summary_df[new_column_order]\n",
    "district_summary_df"
   ]
  },
  {
   "cell_type": "code",
   "execution_count": null,
   "id": "09f6020c",
   "metadata": {
    "scrolled": true
   },
   "outputs": [],
   "source": [
    "per_school_types = school_data_df.set_index([\"school_name\"])[\"type\"]\n",
    "per_school_types"
   ]
  },
  {
   "cell_type": "code",
   "execution_count": null,
   "id": "83ef463a",
   "metadata": {
    "scrolled": true
   },
   "outputs": [],
   "source": [
    "df = pd.DataFrame(per_school_types)\n",
    "df"
   ]
  },
  {
   "cell_type": "code",
   "execution_count": null,
   "id": "c23a474c",
   "metadata": {},
   "outputs": [],
   "source": [
    "per_school_counts = school_data_df.set_index([\"school_name\"])[\"size\"]\n",
    "per_school_counts"
   ]
  },
  {
   "cell_type": "code",
   "execution_count": null,
   "id": "9db3696a",
   "metadata": {},
   "outputs": [],
   "source": [
    "per_school_counts = school_data_complete_df[\"school_name\"].value_counts()\n",
    "per_school_counts"
   ]
  },
  {
   "cell_type": "code",
   "execution_count": null,
   "id": "57736881",
   "metadata": {},
   "outputs": [],
   "source": [
    "per_school_budget = school_data_df.set_index([\"school_name\"])[\"budget\"]\n",
    "per_school_budget"
   ]
  },
  {
   "cell_type": "code",
   "execution_count": null,
   "id": "5053bb52",
   "metadata": {},
   "outputs": [],
   "source": [
    "per_school_capita = per_school_budget / per_school_counts\n",
    "per_school_capita"
   ]
  },
  {
   "cell_type": "code",
   "execution_count": null,
   "id": "ed4b7b77",
   "metadata": {},
   "outputs": [],
   "source": [
    "student_school_math = student_data_df.set_index([\"school_name\"])[\"math_score\"]\n",
    "student_school_math "
   ]
  },
  {
   "cell_type": "code",
   "execution_count": null,
   "id": "08a3f2cc",
   "metadata": {},
   "outputs": [],
   "source": [
    "per_school_averages = school_data_complete_df.groupby([\"school_name\"]).mean()[\"math_score\"]\n",
    "per_school_averages"
   ]
  },
  {
   "cell_type": "code",
   "execution_count": null,
   "id": "c8e98006",
   "metadata": {},
   "outputs": [],
   "source": [
    "per_school_math = school_data_complete_df.groupby([\"school_name\"]).mean()[\"math_score\"]\n",
    "per_school_math "
   ]
  },
  {
   "cell_type": "code",
   "execution_count": null,
   "id": "8797c82f",
   "metadata": {},
   "outputs": [],
   "source": [
    "per_school_reading = school_data_complete_df.groupby([\"school_name\"]).mean()[\"reading_score\"]\n",
    "per_school_reading "
   ]
  },
  {
   "cell_type": "code",
   "execution_count": null,
   "id": "c2840056",
   "metadata": {},
   "outputs": [],
   "source": [
    "per_school_passing_math = school_data_complete_df[(school_data_complete_df['math_score'] >= 70)]\n",
    "per_school_passing_math.head()"
   ]
  },
  {
   "cell_type": "code",
   "execution_count": null,
   "id": "0c3ed485",
   "metadata": {},
   "outputs": [],
   "source": [
    "per_school_passing_reading = school_data_complete_df[(school_data_complete_df['reading_score'] >= 70)]\n",
    "per_school_passing_reading.head()"
   ]
  },
  {
   "cell_type": "code",
   "execution_count": null,
   "id": "1cdc1ee0",
   "metadata": {},
   "outputs": [],
   "source": [
    "per_school_passing_math = per_school_passing_math.groupby([\"school_name\"]).count()[\"student_name\"]\n",
    "per_school_passing_math"
   ]
  },
  {
   "cell_type": "code",
   "execution_count": null,
   "id": "919fb5af",
   "metadata": {},
   "outputs": [],
   "source": [
    "per_school_passing_reading = per_school_passing_reading.groupby([\"school_name\"]).count()[\"student_name\"]\n",
    "per_school_passing_reading"
   ]
  },
  {
   "cell_type": "code",
   "execution_count": null,
   "id": "14bd65de",
   "metadata": {},
   "outputs": [],
   "source": [
    "per_passing_math_reading = school_data_complete_df[(school_data_complete_df[\"math_score\"] >= 70) & (school_data_complete_df[\"reading_score\"] >= 70)]\n",
    "\n",
    "per_passing_math_reading"
   ]
  },
  {
   "cell_type": "code",
   "execution_count": null,
   "id": "78c38e72",
   "metadata": {},
   "outputs": [],
   "source": [
    "per_passing_math_reading = per_passing_math_reading.groupby([\"school_name\"]).count()[\"student_name\"]"
   ]
  },
  {
   "cell_type": "code",
   "execution_count": null,
   "id": "8a08ba87",
   "metadata": {},
   "outputs": [],
   "source": [
    "per_school_counts = school_data_complete_df[\"school_name\"].value_counts()"
   ]
  },
  {
   "cell_type": "code",
   "execution_count": null,
   "id": "e67f4a52",
   "metadata": {},
   "outputs": [],
   "source": [
    "per_school_passing_math = per_school_passing_math / per_school_counts * 100"
   ]
  },
  {
   "cell_type": "code",
   "execution_count": null,
   "id": "6c7ce6f0",
   "metadata": {},
   "outputs": [],
   "source": [
    "per_school_passing_math"
   ]
  },
  {
   "cell_type": "code",
   "execution_count": null,
   "id": "1ce97da2",
   "metadata": {},
   "outputs": [],
   "source": [
    "per_school_passing_reading = per_school_passing_reading / per_school_counts * 100\n",
    "per_school_passing_reading"
   ]
  },
  {
   "cell_type": "code",
   "execution_count": null,
   "id": "2c099519",
   "metadata": {},
   "outputs": [],
   "source": [
    "per_overall_passing_percentage = per_passing_math_reading / per_school_counts * 100\n",
    "per_overall_passing_percentage"
   ]
  },
  {
   "cell_type": "code",
   "execution_count": null,
   "id": "56f56a12",
   "metadata": {},
   "outputs": [],
   "source": [
    "per_school_summary_df = pd.DataFrame({\n",
    "             \"School Type\": per_school_types,\n",
    "             \"Total Students\": per_school_counts,\n",
    "             \"Total School Budget\": per_school_budget,\n",
    "             \"Per Student Budget\": per_school_capita,\n",
    "             \"Average Math Score\": per_school_math,\n",
    "           \"Average Reading Score\": per_school_reading,\n",
    "           \"% Passing Math\": per_school_passing_math,\n",
    "           \"% Passing Reading\": per_school_passing_reading,\n",
    "           \"% Overall Passing\": per_overall_passing_percentage})\n",
    "per_school_summary_df.head()"
   ]
  },
  {
   "cell_type": "code",
   "execution_count": null,
   "id": "fc24a8c1",
   "metadata": {},
   "outputs": [],
   "source": [
    "per_school_summary_df[\"Total School Budget\"] = per_school_summary_df[\"Total School Budget\"].map(\"${:,.2f}\".format)"
   ]
  },
  {
   "cell_type": "code",
   "execution_count": null,
   "id": "101a8edc",
   "metadata": {},
   "outputs": [],
   "source": [
    "per_school_summary_df[\"Per Student Budget\"] = per_school_summary_df[\"Per Student Budget\"].map(\"${:,.2f}\".format)"
   ]
  },
  {
   "cell_type": "code",
   "execution_count": null,
   "id": "e5ffe4a7",
   "metadata": {},
   "outputs": [],
   "source": [
    "per_school_summary_df.head()"
   ]
  },
  {
   "cell_type": "code",
   "execution_count": null,
   "id": "475b5802",
   "metadata": {},
   "outputs": [],
   "source": [
    "top_schools = per_school_summary_df.sort_values(by=[\"% Overall Passing\"], ascending=False)"
   ]
  },
  {
   "cell_type": "code",
   "execution_count": null,
   "id": "32b65e33",
   "metadata": {},
   "outputs": [],
   "source": [
    "top_schools.head()"
   ]
  },
  {
   "cell_type": "code",
   "execution_count": null,
   "id": "492b735b",
   "metadata": {},
   "outputs": [],
   "source": [
    "bottom_schools = per_school_summary_df.sort_values(by=[\"% Overall Passing\"])\n",
    "bottom_schools.head()"
   ]
  },
  {
   "cell_type": "code",
   "execution_count": null,
   "id": "48ac89ef",
   "metadata": {},
   "outputs": [],
   "source": [
    "ninth_graders = school_data_complete_df[(school_data_complete_df[\"grade\"] == \"9th\")]"
   ]
  },
  {
   "cell_type": "code",
   "execution_count": null,
   "id": "2097febf",
   "metadata": {},
   "outputs": [],
   "source": [
    "ninth_graders.head()"
   ]
  },
  {
   "cell_type": "code",
   "execution_count": null,
   "id": "bcad08a5",
   "metadata": {},
   "outputs": [],
   "source": [
    "ninth_graders_group = ninth_graders.groupby(['school_name'])"
   ]
  },
  {
   "cell_type": "code",
   "execution_count": null,
   "id": "f8b850cc",
   "metadata": {},
   "outputs": [],
   "source": [
    "ninth_grade_math_scores = ninth_graders_group.mean()['math_score']"
   ]
  },
  {
   "cell_type": "code",
   "execution_count": null,
   "id": "481355d5",
   "metadata": {},
   "outputs": [],
   "source": [
    "ninth_grade_math_scores.head()"
   ]
  },
  {
   "cell_type": "code",
   "execution_count": null,
   "id": "816b62c8",
   "metadata": {},
   "outputs": [],
   "source": [
    "tenth_graders = school_data_complete_df[(school_data_complete_df['grade'] == '10th')]"
   ]
  },
  {
   "cell_type": "code",
   "execution_count": null,
   "id": "16bdc378",
   "metadata": {},
   "outputs": [],
   "source": [
    "tenth_grade_math_scores = tenth_graders.groupby(['school_name']).mean()['math_score']"
   ]
  },
  {
   "cell_type": "code",
   "execution_count": null,
   "id": "52ad90cf",
   "metadata": {},
   "outputs": [],
   "source": [
    "eleventh_graders = school_data_complete_df[(school_data_complete_df['grade'] == '11th')]"
   ]
  },
  {
   "cell_type": "code",
   "execution_count": null,
   "id": "eeded50d",
   "metadata": {},
   "outputs": [],
   "source": [
    "eleventh_grade_math_scores = eleventh_graders.groupby(['school_name']).mean()['math_score']"
   ]
  },
  {
   "cell_type": "code",
   "execution_count": null,
   "id": "b695176c",
   "metadata": {},
   "outputs": [],
   "source": [
    "pena = eleventh_grade_math_scores['Pena High School']"
   ]
  },
  {
   "cell_type": "code",
   "execution_count": null,
   "id": "20393ec5",
   "metadata": {},
   "outputs": [],
   "source": [
    "pena"
   ]
  },
  {
   "cell_type": "code",
   "execution_count": null,
   "id": "3aeaed3e",
   "metadata": {},
   "outputs": [],
   "source": [
    "twelfth_graders = school_data_complete_df[(school_data_complete_df['grade'] == '12th')]"
   ]
  },
  {
   "cell_type": "code",
   "execution_count": null,
   "id": "e4933c8d",
   "metadata": {},
   "outputs": [],
   "source": [
    "twelfth_grade_math_scores = twelfth_graders.groupby(['school_name']).mean()['math_score']"
   ]
  },
  {
   "cell_type": "code",
   "execution_count": null,
   "id": "2de28fd2",
   "metadata": {},
   "outputs": [],
   "source": [
    "ninth_grade_reading_scores = ninth_graders_group.mean()['reading_score']\n",
    "tenth_grade_reading_scores = tenth_graders.groupby(['school_name']).mean()['reading_score']\n",
    "eleventh_grade_reading_scores = eleventh_graders.groupby(['school_name']).mean()['reading_score']\n",
    "twelfth_grade_reading_scores = twelfth_graders.groupby(['school_name']).mean()['reading_score']"
   ]
  },
  {
   "cell_type": "code",
   "execution_count": null,
   "id": "139ed48e",
   "metadata": {},
   "outputs": [],
   "source": [
    "ninth_grade_reading_scores.head()"
   ]
  },
  {
   "cell_type": "code",
   "execution_count": null,
   "id": "69e99e40",
   "metadata": {},
   "outputs": [],
   "source": [
    "twelfth_grade_reading_scores['Shelton High School']"
   ]
  },
  {
   "cell_type": "code",
   "execution_count": null,
   "id": "08d9c92e",
   "metadata": {},
   "outputs": [],
   "source": [
    "math_scores_by_grade = pd.DataFrame({\n",
    "               \"9th\": ninth_grade_math_scores,\n",
    "               \"10th\": tenth_grade_math_scores,\n",
    "               \"11th\": eleventh_grade_math_scores,\n",
    "               \"12th\": twelfth_grade_math_scores})"
   ]
  },
  {
   "cell_type": "code",
   "execution_count": null,
   "id": "677d9292",
   "metadata": {},
   "outputs": [],
   "source": [
    "math_scores_by_grade"
   ]
  },
  {
   "cell_type": "code",
   "execution_count": null,
   "id": "1c901f6b",
   "metadata": {},
   "outputs": [],
   "source": [
    "reading_scores_by_grade = pd.DataFrame({\n",
    "              \"9th\": ninth_grade_reading_scores,\n",
    "              \"10th\": tenth_grade_reading_scores,\n",
    "              \"11th\": eleventh_grade_reading_scores,\n",
    "              \"12th\": twelfth_grade_reading_scores})"
   ]
  },
  {
   "cell_type": "code",
   "execution_count": null,
   "id": "1b2da014",
   "metadata": {},
   "outputs": [],
   "source": [
    "reading_scores_by_grade"
   ]
  },
  {
   "cell_type": "code",
   "execution_count": null,
   "id": "7209a36c",
   "metadata": {},
   "outputs": [],
   "source": [
    "math_scores_by_grade[\"9th\"] = math_scores_by_grade[\"9th\"].map(\"{:.1f}\".format)\n",
    "\n",
    "math_scores_by_grade[\"10th\"] = math_scores_by_grade[\"10th\"].map(\"{:.1f}\".format)\n",
    "\n",
    "math_scores_by_grade[\"11th\"] = math_scores_by_grade[\"11th\"].map(\"{:.1f}\".format)\n",
    "\n",
    "math_scores_by_grade[\"12th\"] = math_scores_by_grade[\"12th\"].map(\"{:.1f}\".format)"
   ]
  },
  {
   "cell_type": "code",
   "execution_count": null,
   "id": "515f2e7c",
   "metadata": {},
   "outputs": [],
   "source": [
    "math_scores_by_grade.index.name = None"
   ]
  },
  {
   "cell_type": "code",
   "execution_count": null,
   "id": "bcc42e36",
   "metadata": {},
   "outputs": [],
   "source": [
    "math_scores_by_grade.head()"
   ]
  },
  {
   "cell_type": "code",
   "execution_count": null,
   "id": "2b002999",
   "metadata": {},
   "outputs": [],
   "source": [
    "reading_scores_by_grade[\"9th\"] = reading_scores_by_grade[\"9th\"].map(\"{:,.1f}\".format)\n",
    "\n",
    "reading_scores_by_grade[\"10th\"] = reading_scores_by_grade[\"10th\"].map(\"{:,.1f}\".format)\n",
    "\n",
    "reading_scores_by_grade[\"11th\"] = reading_scores_by_grade[\"11th\"].map(\"{:,.1f}\".format)\n",
    "\n",
    "reading_scores_by_grade[\"12th\"] = reading_scores_by_grade[\"12th\"].map(\"{:,.1f}\".format)"
   ]
  },
  {
   "cell_type": "code",
   "execution_count": null,
   "id": "6ddfc0ab",
   "metadata": {},
   "outputs": [],
   "source": [
    "reading_scores_by_grade.index.name = None"
   ]
  },
  {
   "cell_type": "code",
   "execution_count": null,
   "id": "ef67218a",
   "metadata": {},
   "outputs": [],
   "source": [
    "reading_scores_by_grade.head()"
   ]
  },
  {
   "cell_type": "code",
   "execution_count": null,
   "id": "7d32d0a6",
   "metadata": {},
   "outputs": [],
   "source": [
    "per_school_capita.describe()"
   ]
  },
  {
   "cell_type": "code",
   "execution_count": null,
   "id": "1b781730",
   "metadata": {},
   "outputs": [],
   "source": [
    "spending_bins =  [0, 586, 630, 645, 675]\n",
    "group_names = [\"<$586\", \"$586-630\", \"$631-645\", \"$646-675\"]"
   ]
  },
  {
   "cell_type": "code",
   "execution_count": null,
   "id": "59f0c4be",
   "metadata": {},
   "outputs": [],
   "source": [
    "pd.cut(per_school_capita, spending_bins)"
   ]
  },
  {
   "cell_type": "code",
   "execution_count": null,
   "id": "fc91fc98",
   "metadata": {},
   "outputs": [],
   "source": [
    "per_school_capita.groupby(pd.cut(per_school_capita, spending_bins)).count()"
   ]
  },
  {
   "cell_type": "code",
   "execution_count": null,
   "id": "57df7a30",
   "metadata": {},
   "outputs": [],
   "source": [
    "per_school_summary_df[\"Spending Ranges (Per Student)\"] = pd.cut(per_school_capita, spending_bins, labels=group_names)"
   ]
  },
  {
   "cell_type": "code",
   "execution_count": null,
   "id": "4a828732",
   "metadata": {},
   "outputs": [],
   "source": [
    "per_school_summary_df.head()"
   ]
  },
  {
   "cell_type": "code",
   "execution_count": null,
   "id": "d6a9901d",
   "metadata": {},
   "outputs": [],
   "source": [
    "spending_math_scores = per_school_summary_df.groupby([\"Spending Ranges (Per Student)\"]).mean()[\"Average Math Score\"]\n",
    "spending_math_scores"
   ]
  },
  {
   "cell_type": "code",
   "execution_count": null,
   "id": "7a8cd623",
   "metadata": {},
   "outputs": [],
   "source": [
    "spending_reading_scores = per_school_summary_df.groupby([\"Spending Ranges (Per Student)\"]).mean()[\"Average Reading Score\"]\n",
    "spending_reading_scores"
   ]
  },
  {
   "cell_type": "code",
   "execution_count": null,
   "id": "e21f3ea8",
   "metadata": {},
   "outputs": [],
   "source": [
    "spending_passing_math = per_school_summary_df.groupby([\"Spending Ranges (Per Student)\"]).mean()[\"% Passing Math\"]\n",
    "spending_passing_math "
   ]
  },
  {
   "cell_type": "code",
   "execution_count": null,
   "id": "3bce4d0b",
   "metadata": {},
   "outputs": [],
   "source": [
    "spending_passing_reading = per_school_summary_df.groupby([\"Spending Ranges (Per Student)\"]).mean()[\"% Passing Reading\"]\n",
    "spending_passing_reading"
   ]
  },
  {
   "cell_type": "code",
   "execution_count": null,
   "id": "2b0cc37e",
   "metadata": {},
   "outputs": [],
   "source": [
    "overall_passing_spending = per_school_summary_df.groupby([\"Spending Ranges (Per Student)\"]).mean()[\"% Overall Passing\"]"
   ]
  },
  {
   "cell_type": "code",
   "execution_count": null,
   "id": "e3d021db",
   "metadata": {},
   "outputs": [],
   "source": [
    "overall_passing_spending"
   ]
  },
  {
   "cell_type": "code",
   "execution_count": null,
   "id": "0943faad",
   "metadata": {},
   "outputs": [],
   "source": [
    "spending_summary_df = pd.DataFrame({\n",
    "          \"Average Math Score\" : spending_math_scores,\n",
    "          \"Average Reading Score\": spending_reading_scores,\n",
    "          \"% Passing Math\": spending_passing_math,\n",
    "          \"% Passing Reading\": spending_passing_reading,\n",
    "          \"% Overall Passing\": overall_passing_spending})"
   ]
  },
  {
   "cell_type": "code",
   "execution_count": null,
   "id": "f5424088",
   "metadata": {},
   "outputs": [],
   "source": [
    "spending_summary_df"
   ]
  },
  {
   "cell_type": "code",
   "execution_count": null,
   "id": "e7e36205",
   "metadata": {},
   "outputs": [],
   "source": [
    "spending_summary_df[\"Average Math Score\"] = spending_summary_df[\"Average Math Score\"].map(\"{:.1f}\".format) "
   ]
  },
  {
   "cell_type": "code",
   "execution_count": null,
   "id": "9aa6a33a",
   "metadata": {},
   "outputs": [],
   "source": [
    "spending_summary_df[\"Average Reading Score\"] = spending_summary_df[\"Average Reading Score\"].map(\"{:.1f}\".format)"
   ]
  },
  {
   "cell_type": "code",
   "execution_count": null,
   "id": "5b8383a6",
   "metadata": {},
   "outputs": [],
   "source": [
    "spending_summary_df[\"% Passing Math\"] = spending_summary_df[\"% Passing Math\"].map(\"{:.0f}\".format)"
   ]
  },
  {
   "cell_type": "code",
   "execution_count": null,
   "id": "9208843f",
   "metadata": {},
   "outputs": [],
   "source": [
    "spending_summary_df[\"% Passing Reading\"] = spending_summary_df[\"% Passing Reading\"].map(\"{:.0f}\".format)"
   ]
  },
  {
   "cell_type": "code",
   "execution_count": null,
   "id": "1acb7a34",
   "metadata": {},
   "outputs": [],
   "source": [
    "spending_summary_df[\"% Overall Passing\"] = spending_summary_df[\"% Overall Passing\"].map(\"{:.0f}\".format)"
   ]
  },
  {
   "cell_type": "code",
   "execution_count": null,
   "id": "8d05625a",
   "metadata": {},
   "outputs": [],
   "source": [
    "spending_summary_df"
   ]
  },
  {
   "cell_type": "code",
   "execution_count": null,
   "id": "4fcfdd93",
   "metadata": {},
   "outputs": [],
   "source": [
    "per_school_counts = school_data_complete_df[\"school_name\"].value_counts()\n",
    "per_school_counts"
   ]
  },
  {
   "cell_type": "code",
   "execution_count": null,
   "id": "110e36ba",
   "metadata": {},
   "outputs": [],
   "source": [
    "size_bins = [0, 999, 1999, 5000]\n",
    "group_names = [\"Small (<1000)\", \"Medium (1000-1999)\", \"Large (2000-5000)\"]"
   ]
  },
  {
   "cell_type": "code",
   "execution_count": null,
   "id": "1be552fa",
   "metadata": {},
   "outputs": [],
   "source": [
    "per_school_summary_df[\"School Size\"] = pd.cut(per_school_summary_df[\"Total Students\"], size_bins, labels=group_names)\n",
    "per_school_summary_df.head()"
   ]
  },
  {
   "cell_type": "code",
   "execution_count": null,
   "id": "c98a06e4",
   "metadata": {},
   "outputs": [],
   "source": [
    "size_math_scores = per_school_summary_df.groupby([\"School Size\"]).mean()[\"Average Math Score\"]"
   ]
  },
  {
   "cell_type": "code",
   "execution_count": null,
   "id": "dcc215d1",
   "metadata": {},
   "outputs": [],
   "source": [
    "size_reading_scores = per_school_summary_df.groupby([\"School Size\"]).mean()[\"Average Reading Score\"]"
   ]
  },
  {
   "cell_type": "code",
   "execution_count": null,
   "id": "51437490",
   "metadata": {},
   "outputs": [],
   "source": [
    "size_passing_math = per_school_summary_df.groupby([\"School Size\"]).mean()[\"% Passing Math\"]\n",
    "\n",
    "size_passing_reading = per_school_summary_df.groupby([\"School Size\"]).mean()[\"% Passing Reading\"]\n",
    "\n",
    "size_overall_passing = per_school_summary_df.groupby([\"School Size\"]).mean()[\"% Overall Passing\"]"
   ]
  },
  {
   "cell_type": "code",
   "execution_count": null,
   "id": "0f7c8fb0",
   "metadata": {},
   "outputs": [],
   "source": [
    "size_summary_df = pd.DataFrame({\n",
    "          \"Average Math Score\" : size_math_scores,\n",
    "          \"Average Reading Score\": size_reading_scores,\n",
    "          \"% Passing Math\": size_passing_math,\n",
    "          \"% Passing Reading\": size_passing_reading,\n",
    "          \"% Overall Passing\": size_overall_passing})\n",
    "\n",
    "size_summary_df"
   ]
  },
  {
   "cell_type": "code",
   "execution_count": null,
   "id": "aff1481f",
   "metadata": {},
   "outputs": [],
   "source": [
    "size_summary_df[\"Average Math Score\"] = size_summary_df[\"Average Math Score\"].map(\"{:.1f}\".format)"
   ]
  },
  {
   "cell_type": "code",
   "execution_count": null,
   "id": "fc6408c3",
   "metadata": {},
   "outputs": [],
   "source": [
    "size_summary_df[\"Average Reading Score\"] = size_summary_df[\"Average Reading Score\"].map(\"{:.1f}\".format)\n",
    "\n",
    "size_summary_df[\"% Passing Math\"] = size_summary_df[\"% Passing Math\"].map(\"{:.0f}\".format)\n",
    "\n",
    "size_summary_df[\"% Passing Reading\"] = size_summary_df[\"% Passing Reading\"].map(\"{:.0f}\".format)\n",
    "\n",
    "size_summary_df[\"% Overall Passing\"] = size_summary_df[\"% Overall Passing\"].map(\"{:.0f}\".format)\n",
    "\n",
    "size_summary_df"
   ]
  },
  {
   "cell_type": "code",
   "execution_count": null,
   "id": "ff564485",
   "metadata": {},
   "outputs": [],
   "source": [
    "type_math_scores = per_school_summary_df.groupby([\"School Type\"]).mean()[\"Average Math Score\"]"
   ]
  },
  {
   "cell_type": "code",
   "execution_count": null,
   "id": "9fc3ed79",
   "metadata": {},
   "outputs": [],
   "source": [
    "type_reading_scores = per_school_summary_df.groupby([\"School Type\"]).mean()[\"Average Reading Score\"]"
   ]
  },
  {
   "cell_type": "code",
   "execution_count": null,
   "id": "0ac718d9",
   "metadata": {},
   "outputs": [],
   "source": [
    "type_passing_math = per_school_summary_df.groupby([\"School Type\"]).mean()[\"% Passing Math\"]\n",
    "\n",
    "type_passing_reading = per_school_summary_df.groupby([\"School Type\"]).mean()[\"% Passing Reading\"]\n",
    "\n",
    "type_overall_passing = per_school_summary_df.groupby([\"School Type\"]).mean()[\"% Overall Passing\"]"
   ]
  },
  {
   "cell_type": "code",
   "execution_count": null,
   "id": "5aa337b7",
   "metadata": {},
   "outputs": [],
   "source": [
    "type_summary_df = pd.DataFrame({\n",
    "          \"Average Math Score\" : type_math_scores,\n",
    "          \"Average Reading Score\": type_reading_scores,\n",
    "          \"% Passing Math\": type_passing_math,\n",
    "          \"% Passing Reading\": type_passing_reading,\n",
    "          \"% Overall Passing\": type_overall_passing})\n",
    "\n",
    "type_summary_df"
   ]
  },
  {
   "cell_type": "code",
   "execution_count": null,
   "id": "ff7d2b78",
   "metadata": {},
   "outputs": [],
   "source": [
    "type_summary_df[\"Average Math Score\"] = type_summary_df[\"Average Math Score\"].map(\"{:.1f}\".format)"
   ]
  },
  {
   "cell_type": "code",
   "execution_count": null,
   "id": "e1e8517d",
   "metadata": {},
   "outputs": [],
   "source": [
    "type_summary_df[\"Average Reading Score\"] = type_summary_df[\"Average Reading Score\"].map(\"{:.1f}\".format)\n",
    "\n",
    "type_summary_df[\"% Passing Math\"] = type_summary_df[\"% Passing Math\"].map(\"{:.0f}\".format)\n",
    "\n",
    "type_summary_df[\"% Passing Reading\"] = type_summary_df[\"% Passing Reading\"].map(\"{:.0f}\".format)\n",
    "\n",
    "type_summary_df[\"% Overall Passing\"] = type_summary_df[\"% Overall Passing\"].map(\"{:.0f}\".format)\n",
    "\n",
    "type_summary_df"
   ]
  },
  {
   "cell_type": "code",
   "execution_count": null,
   "id": "9dbc610e",
   "metadata": {},
   "outputs": [],
   "source": []
  }
 ],
 "metadata": {
  "kernelspec": {
   "display_name": "PythonData",
   "language": "python",
   "name": "pythondata"
  },
  "language_info": {
   "codemirror_mode": {
    "name": "ipython",
    "version": 3
   },
   "file_extension": ".py",
   "mimetype": "text/x-python",
   "name": "python",
   "nbconvert_exporter": "python",
   "pygments_lexer": "ipython3",
   "version": "3.7.11"
  }
 },
 "nbformat": 4,
 "nbformat_minor": 5
}
