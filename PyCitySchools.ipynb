{
 "cells": [
  {
   "cell_type": "code",
   "execution_count": 1,
   "id": "06ff999f",
   "metadata": {},
   "outputs": [],
   "source": [
    "import pandas as pd\n",
    "import os\n",
    "\n",
    "\n"
   ]
  },
  {
   "cell_type": "code",
   "execution_count": 2,
   "id": "d6831f32",
   "metadata": {},
   "outputs": [
    {
     "data": {
      "text/html": [
       "<div>\n",
       "<style scoped>\n",
       "    .dataframe tbody tr th:only-of-type {\n",
       "        vertical-align: middle;\n",
       "    }\n",
       "\n",
       "    .dataframe tbody tr th {\n",
       "        vertical-align: top;\n",
       "    }\n",
       "\n",
       "    .dataframe thead th {\n",
       "        text-align: right;\n",
       "    }\n",
       "</style>\n",
       "<table border=\"1\" class=\"dataframe\">\n",
       "  <thead>\n",
       "    <tr style=\"text-align: right;\">\n",
       "      <th></th>\n",
       "      <th>School ID</th>\n",
       "      <th>school_name</th>\n",
       "      <th>type</th>\n",
       "      <th>size</th>\n",
       "      <th>budget</th>\n",
       "    </tr>\n",
       "  </thead>\n",
       "  <tbody>\n",
       "    <tr>\n",
       "      <th>0</th>\n",
       "      <td>0</td>\n",
       "      <td>Huang High School</td>\n",
       "      <td>District</td>\n",
       "      <td>2917</td>\n",
       "      <td>1910635</td>\n",
       "    </tr>\n",
       "    <tr>\n",
       "      <th>1</th>\n",
       "      <td>1</td>\n",
       "      <td>Figueroa High School</td>\n",
       "      <td>District</td>\n",
       "      <td>2949</td>\n",
       "      <td>1884411</td>\n",
       "    </tr>\n",
       "    <tr>\n",
       "      <th>2</th>\n",
       "      <td>2</td>\n",
       "      <td>Shelton High School</td>\n",
       "      <td>Charter</td>\n",
       "      <td>1761</td>\n",
       "      <td>1056600</td>\n",
       "    </tr>\n",
       "    <tr>\n",
       "      <th>3</th>\n",
       "      <td>3</td>\n",
       "      <td>Hernandez High School</td>\n",
       "      <td>District</td>\n",
       "      <td>4635</td>\n",
       "      <td>3022020</td>\n",
       "    </tr>\n",
       "    <tr>\n",
       "      <th>4</th>\n",
       "      <td>4</td>\n",
       "      <td>Griffin High School</td>\n",
       "      <td>Charter</td>\n",
       "      <td>1468</td>\n",
       "      <td>917500</td>\n",
       "    </tr>\n",
       "  </tbody>\n",
       "</table>\n",
       "</div>"
      ],
      "text/plain": [
       "   School ID            school_name      type  size   budget\n",
       "0          0      Huang High School  District  2917  1910635\n",
       "1          1   Figueroa High School  District  2949  1884411\n",
       "2          2    Shelton High School   Charter  1761  1056600\n",
       "3          3  Hernandez High School  District  4635  3022020\n",
       "4          4    Griffin High School   Charter  1468   917500"
      ]
     },
     "execution_count": 2,
     "metadata": {},
     "output_type": "execute_result"
    }
   ],
   "source": [
    "#Read the school data file and store it in a Pandas DataFrame.\n",
    "school_data_to_load = \"resources/schools_complete.csv\"\n",
    "school_data_df = pd.read_csv(school_data_to_load)\n",
    "school_data_df.head()"
   ]
  },
  {
   "cell_type": "code",
   "execution_count": 3,
   "id": "e460f635",
   "metadata": {},
   "outputs": [
    {
     "data": {
      "text/html": [
       "<div>\n",
       "<style scoped>\n",
       "    .dataframe tbody tr th:only-of-type {\n",
       "        vertical-align: middle;\n",
       "    }\n",
       "\n",
       "    .dataframe tbody tr th {\n",
       "        vertical-align: top;\n",
       "    }\n",
       "\n",
       "    .dataframe thead th {\n",
       "        text-align: right;\n",
       "    }\n",
       "</style>\n",
       "<table border=\"1\" class=\"dataframe\">\n",
       "  <thead>\n",
       "    <tr style=\"text-align: right;\">\n",
       "      <th></th>\n",
       "      <th>Unnamed: 0</th>\n",
       "      <th>Student ID</th>\n",
       "      <th>student_name</th>\n",
       "      <th>gender</th>\n",
       "      <th>grade</th>\n",
       "      <th>school_name</th>\n",
       "      <th>reading_score</th>\n",
       "      <th>math_score</th>\n",
       "    </tr>\n",
       "  </thead>\n",
       "  <tbody>\n",
       "    <tr>\n",
       "      <th>39165</th>\n",
       "      <td>39165</td>\n",
       "      <td>39165</td>\n",
       "      <td>Donna Howard</td>\n",
       "      <td>F</td>\n",
       "      <td>12th</td>\n",
       "      <td>Thomas High School</td>\n",
       "      <td>99</td>\n",
       "      <td>90</td>\n",
       "    </tr>\n",
       "    <tr>\n",
       "      <th>39166</th>\n",
       "      <td>39166</td>\n",
       "      <td>39166</td>\n",
       "      <td>Dawn Bell</td>\n",
       "      <td>F</td>\n",
       "      <td>10th</td>\n",
       "      <td>Thomas High School</td>\n",
       "      <td>95</td>\n",
       "      <td>70</td>\n",
       "    </tr>\n",
       "    <tr>\n",
       "      <th>39167</th>\n",
       "      <td>39167</td>\n",
       "      <td>39167</td>\n",
       "      <td>Rebecca Tanner</td>\n",
       "      <td>F</td>\n",
       "      <td>9th</td>\n",
       "      <td>Thomas High School</td>\n",
       "      <td>73</td>\n",
       "      <td>84</td>\n",
       "    </tr>\n",
       "    <tr>\n",
       "      <th>39168</th>\n",
       "      <td>39168</td>\n",
       "      <td>39168</td>\n",
       "      <td>Desiree Kidd</td>\n",
       "      <td>F</td>\n",
       "      <td>10th</td>\n",
       "      <td>Thomas High School</td>\n",
       "      <td>99</td>\n",
       "      <td>90</td>\n",
       "    </tr>\n",
       "    <tr>\n",
       "      <th>39169</th>\n",
       "      <td>39169</td>\n",
       "      <td>39169</td>\n",
       "      <td>Carolyn Jackson</td>\n",
       "      <td>F</td>\n",
       "      <td>11th</td>\n",
       "      <td>Thomas High School</td>\n",
       "      <td>95</td>\n",
       "      <td>75</td>\n",
       "    </tr>\n",
       "  </tbody>\n",
       "</table>\n",
       "</div>"
      ],
      "text/plain": [
       "       Unnamed: 0  Student ID     student_name gender grade  \\\n",
       "39165       39165       39165     Donna Howard      F  12th   \n",
       "39166       39166       39166        Dawn Bell      F  10th   \n",
       "39167       39167       39167   Rebecca Tanner      F   9th   \n",
       "39168       39168       39168     Desiree Kidd      F  10th   \n",
       "39169       39169       39169  Carolyn Jackson      F  11th   \n",
       "\n",
       "              school_name  reading_score  math_score  \n",
       "39165  Thomas High School             99          90  \n",
       "39166  Thomas High School             95          70  \n",
       "39167  Thomas High School             73          84  \n",
       "39168  Thomas High School             99          90  \n",
       "39169  Thomas High School             95          75  "
      ]
     },
     "execution_count": 3,
     "metadata": {},
     "output_type": "execute_result"
    }
   ],
   "source": [
    "student_data_to_load = \"resources/clean_students_complete.csv\"\n",
    "student_data_df = pd.read_csv(student_data_to_load)\n",
    "student_data_df.tail()"
   ]
  },
  {
   "cell_type": "code",
   "execution_count": 4,
   "id": "50ee3ffd",
   "metadata": {},
   "outputs": [
    {
     "data": {
      "text/html": [
       "<div>\n",
       "<style scoped>\n",
       "    .dataframe tbody tr th:only-of-type {\n",
       "        vertical-align: middle;\n",
       "    }\n",
       "\n",
       "    .dataframe tbody tr th {\n",
       "        vertical-align: top;\n",
       "    }\n",
       "\n",
       "    .dataframe thead th {\n",
       "        text-align: right;\n",
       "    }\n",
       "</style>\n",
       "<table border=\"1\" class=\"dataframe\">\n",
       "  <thead>\n",
       "    <tr style=\"text-align: right;\">\n",
       "      <th></th>\n",
       "      <th>Student ID</th>\n",
       "      <th>student_name</th>\n",
       "      <th>gender</th>\n",
       "      <th>grade</th>\n",
       "      <th>school_name</th>\n",
       "      <th>reading_score</th>\n",
       "      <th>math_score</th>\n",
       "      <th>School ID</th>\n",
       "      <th>type</th>\n",
       "      <th>size</th>\n",
       "      <th>budget</th>\n",
       "    </tr>\n",
       "  </thead>\n",
       "  <tbody>\n",
       "    <tr>\n",
       "      <th>0</th>\n",
       "      <td>0</td>\n",
       "      <td>Paul Bradley</td>\n",
       "      <td>M</td>\n",
       "      <td>9th</td>\n",
       "      <td>Huang High School</td>\n",
       "      <td>66</td>\n",
       "      <td>79</td>\n",
       "      <td>0</td>\n",
       "      <td>District</td>\n",
       "      <td>2917</td>\n",
       "      <td>1910635</td>\n",
       "    </tr>\n",
       "    <tr>\n",
       "      <th>1</th>\n",
       "      <td>1</td>\n",
       "      <td>Victor Smith</td>\n",
       "      <td>M</td>\n",
       "      <td>12th</td>\n",
       "      <td>Huang High School</td>\n",
       "      <td>94</td>\n",
       "      <td>61</td>\n",
       "      <td>0</td>\n",
       "      <td>District</td>\n",
       "      <td>2917</td>\n",
       "      <td>1910635</td>\n",
       "    </tr>\n",
       "    <tr>\n",
       "      <th>2</th>\n",
       "      <td>2</td>\n",
       "      <td>Kevin Rodriguez</td>\n",
       "      <td>M</td>\n",
       "      <td>12th</td>\n",
       "      <td>Huang High School</td>\n",
       "      <td>90</td>\n",
       "      <td>60</td>\n",
       "      <td>0</td>\n",
       "      <td>District</td>\n",
       "      <td>2917</td>\n",
       "      <td>1910635</td>\n",
       "    </tr>\n",
       "    <tr>\n",
       "      <th>3</th>\n",
       "      <td>3</td>\n",
       "      <td>Richard Scott</td>\n",
       "      <td>M</td>\n",
       "      <td>12th</td>\n",
       "      <td>Huang High School</td>\n",
       "      <td>67</td>\n",
       "      <td>58</td>\n",
       "      <td>0</td>\n",
       "      <td>District</td>\n",
       "      <td>2917</td>\n",
       "      <td>1910635</td>\n",
       "    </tr>\n",
       "    <tr>\n",
       "      <th>4</th>\n",
       "      <td>4</td>\n",
       "      <td>Bonnie Ray</td>\n",
       "      <td>F</td>\n",
       "      <td>9th</td>\n",
       "      <td>Huang High School</td>\n",
       "      <td>97</td>\n",
       "      <td>84</td>\n",
       "      <td>0</td>\n",
       "      <td>District</td>\n",
       "      <td>2917</td>\n",
       "      <td>1910635</td>\n",
       "    </tr>\n",
       "  </tbody>\n",
       "</table>\n",
       "</div>"
      ],
      "text/plain": [
       "   Student ID     student_name gender grade        school_name  reading_score  \\\n",
       "0           0     Paul Bradley      M   9th  Huang High School             66   \n",
       "1           1     Victor Smith      M  12th  Huang High School             94   \n",
       "2           2  Kevin Rodriguez      M  12th  Huang High School             90   \n",
       "3           3    Richard Scott      M  12th  Huang High School             67   \n",
       "4           4       Bonnie Ray      F   9th  Huang High School             97   \n",
       "\n",
       "   math_score  School ID      type  size   budget  \n",
       "0          79          0  District  2917  1910635  \n",
       "1          61          0  District  2917  1910635  \n",
       "2          60          0  District  2917  1910635  \n",
       "3          58          0  District  2917  1910635  \n",
       "4          84          0  District  2917  1910635  "
      ]
     },
     "execution_count": 4,
     "metadata": {},
     "output_type": "execute_result"
    }
   ],
   "source": [
    "school_data_complete_df = pd.merge(student_data_df, school_data_df, on=[\"school_name\", \"school_name\"], left_index=False)\n",
    "school_data_complete_df.drop(school_data_complete_df.filter(regex=\"Unname\"), axis=1, inplace=True)\n",
    "school_data_complete_df.head()"
   ]
  },
  {
   "cell_type": "code",
   "execution_count": 5,
   "id": "cb7f65c7",
   "metadata": {},
   "outputs": [
    {
     "data": {
      "text/plain": [
       "Student ID       39170\n",
       "student_name     39170\n",
       "gender           39170\n",
       "grade            39170\n",
       "school_name      39170\n",
       "reading_score    39170\n",
       "math_score       39170\n",
       "School ID        39170\n",
       "type             39170\n",
       "size             39170\n",
       "budget           39170\n",
       "dtype: int64"
      ]
     },
     "execution_count": 5,
     "metadata": {},
     "output_type": "execute_result"
    }
   ],
   "source": [
    "student_count = school_data_complete_df.count()\n",
    "student_count"
   ]
  },
  {
   "cell_type": "code",
   "execution_count": 6,
   "id": "252fa5a3",
   "metadata": {},
   "outputs": [
    {
     "data": {
      "text/plain": [
       "39170"
      ]
     },
     "execution_count": 6,
     "metadata": {},
     "output_type": "execute_result"
    }
   ],
   "source": [
    "school_data_complete_df['student_name'].count()"
   ]
  },
  {
   "cell_type": "code",
   "execution_count": 7,
   "id": "84814362",
   "metadata": {},
   "outputs": [
    {
     "data": {
      "text/plain": [
       "39170"
      ]
     },
     "execution_count": 7,
     "metadata": {},
     "output_type": "execute_result"
    }
   ],
   "source": [
    "school_data_complete_df['Student ID'].count()"
   ]
  },
  {
   "cell_type": "code",
   "execution_count": 8,
   "id": "2fd74fb5",
   "metadata": {},
   "outputs": [
    {
     "data": {
      "text/plain": [
       "15"
      ]
     },
     "execution_count": 8,
     "metadata": {},
     "output_type": "execute_result"
    }
   ],
   "source": [
    "school_count = school_data_df[\"school_name\"].count()\n",
    "school_count"
   ]
  },
  {
   "cell_type": "code",
   "execution_count": 9,
   "id": "980613a9",
   "metadata": {},
   "outputs": [],
   "source": [
    "school_count_2 = len(school_data_complete_df[\"school_name\"].unique())"
   ]
  },
  {
   "cell_type": "code",
   "execution_count": 10,
   "id": "8e7ae431",
   "metadata": {},
   "outputs": [
    {
     "data": {
      "text/plain": [
       "15"
      ]
     },
     "execution_count": 10,
     "metadata": {},
     "output_type": "execute_result"
    }
   ],
   "source": [
    "school_count_2"
   ]
  },
  {
   "cell_type": "code",
   "execution_count": 11,
   "id": "e59bae7e",
   "metadata": {},
   "outputs": [
    {
     "data": {
      "text/plain": [
       "'$24,649,428.00'"
      ]
     },
     "execution_count": 11,
     "metadata": {},
     "output_type": "execute_result"
    }
   ],
   "source": [
    "total_budget = '${:,.2f}'.format(sum(school_data_df[\"budget\"]))\n",
    "total_budget"
   ]
  },
  {
   "cell_type": "code",
   "execution_count": 12,
   "id": "467f131d",
   "metadata": {},
   "outputs": [
    {
     "data": {
      "text/plain": [
       "81.87784018381414"
      ]
     },
     "execution_count": 12,
     "metadata": {},
     "output_type": "execute_result"
    }
   ],
   "source": [
    "average_reading_score = school_data_complete_df[\"reading_score\"].mean()\n",
    "average_reading_score"
   ]
  },
  {
   "cell_type": "code",
   "execution_count": 13,
   "id": "849eca31",
   "metadata": {},
   "outputs": [
    {
     "data": {
      "text/plain": [
       "78.98537145774827"
      ]
     },
     "execution_count": 13,
     "metadata": {},
     "output_type": "execute_result"
    }
   ],
   "source": [
    "average_math_score = school_data_complete_df[\"math_score\"].mean()\n",
    "average_math_score"
   ]
  },
  {
   "cell_type": "code",
   "execution_count": 14,
   "id": "d8a219a5",
   "metadata": {},
   "outputs": [
    {
     "data": {
      "text/plain": [
       "33610"
      ]
     },
     "execution_count": 14,
     "metadata": {},
     "output_type": "execute_result"
    }
   ],
   "source": [
    "passing_reading_count = (school_data_complete_df[\"reading_score\"]>= 70).sum()\n",
    "passing_reading_count"
   ]
  },
  {
   "cell_type": "code",
   "execution_count": 15,
   "id": "d61b85c3",
   "metadata": {},
   "outputs": [
    {
     "data": {
      "text/plain": [
       "29370"
      ]
     },
     "execution_count": 15,
     "metadata": {},
     "output_type": "execute_result"
    }
   ],
   "source": [
    "passing_math_count = (school_data_complete_df[\"math_score\"]>= 70).sum()\n",
    "passing_math_count "
   ]
  },
  {
   "cell_type": "code",
   "execution_count": 16,
   "id": "b5f62cc9",
   "metadata": {},
   "outputs": [
    {
     "data": {
      "text/plain": [
       "29370"
      ]
     },
     "execution_count": 16,
     "metadata": {},
     "output_type": "execute_result"
    }
   ],
   "source": [
    "passing_math = school_data_complete_df[school_data_complete_df[\"math_score\"] >= 70]\n",
    "passing_math.head()\n",
    "passing_math['student_name'].count()"
   ]
  },
  {
   "cell_type": "code",
   "execution_count": 17,
   "id": "b53e45a1",
   "metadata": {},
   "outputs": [
    {
     "name": "stdout",
     "output_type": "stream",
     "text": [
      "29370\n",
      "33610\n"
     ]
    }
   ],
   "source": [
    "print(passing_math_count)\n",
    "print(passing_reading_count)"
   ]
  },
  {
   "cell_type": "code",
   "execution_count": 18,
   "id": "dff009fb",
   "metadata": {},
   "outputs": [
    {
     "data": {
      "text/plain": [
       "39170"
      ]
     },
     "execution_count": 18,
     "metadata": {},
     "output_type": "execute_result"
    }
   ],
   "source": [
    "student_count = school_data_complete_df['Student ID'].count()\n",
    "student_count"
   ]
  },
  {
   "cell_type": "code",
   "execution_count": 19,
   "id": "0e619e6c",
   "metadata": {},
   "outputs": [],
   "source": [
    "passing_math_percentage = passing_math_count / float(student_count) * 100\n",
    "passing_reading_percentage = passing_reading_count / float(student_count) * 100"
   ]
  },
  {
   "cell_type": "code",
   "execution_count": 20,
   "id": "83ec9383",
   "metadata": {},
   "outputs": [
    {
     "name": "stdout",
     "output_type": "stream",
     "text": [
      "74.9808526933878\n",
      "85.80546336482001\n"
     ]
    }
   ],
   "source": [
    "print(passing_math_percentage)\n",
    "print(passing_reading_percentage)"
   ]
  },
  {
   "cell_type": "code",
   "execution_count": 21,
   "id": "5553ae59",
   "metadata": {},
   "outputs": [
    {
     "data": {
      "text/html": [
       "<div>\n",
       "<style scoped>\n",
       "    .dataframe tbody tr th:only-of-type {\n",
       "        vertical-align: middle;\n",
       "    }\n",
       "\n",
       "    .dataframe tbody tr th {\n",
       "        vertical-align: top;\n",
       "    }\n",
       "\n",
       "    .dataframe thead th {\n",
       "        text-align: right;\n",
       "    }\n",
       "</style>\n",
       "<table border=\"1\" class=\"dataframe\">\n",
       "  <thead>\n",
       "    <tr style=\"text-align: right;\">\n",
       "      <th></th>\n",
       "      <th>Student ID</th>\n",
       "      <th>student_name</th>\n",
       "      <th>gender</th>\n",
       "      <th>grade</th>\n",
       "      <th>school_name</th>\n",
       "      <th>reading_score</th>\n",
       "      <th>math_score</th>\n",
       "      <th>School ID</th>\n",
       "      <th>type</th>\n",
       "      <th>size</th>\n",
       "      <th>budget</th>\n",
       "    </tr>\n",
       "  </thead>\n",
       "  <tbody>\n",
       "    <tr>\n",
       "      <th>4</th>\n",
       "      <td>4</td>\n",
       "      <td>Bonnie Ray</td>\n",
       "      <td>F</td>\n",
       "      <td>9th</td>\n",
       "      <td>Huang High School</td>\n",
       "      <td>97</td>\n",
       "      <td>84</td>\n",
       "      <td>0</td>\n",
       "      <td>District</td>\n",
       "      <td>2917</td>\n",
       "      <td>1910635</td>\n",
       "    </tr>\n",
       "    <tr>\n",
       "      <th>5</th>\n",
       "      <td>5</td>\n",
       "      <td>Bryan Miranda</td>\n",
       "      <td>M</td>\n",
       "      <td>9th</td>\n",
       "      <td>Huang High School</td>\n",
       "      <td>94</td>\n",
       "      <td>94</td>\n",
       "      <td>0</td>\n",
       "      <td>District</td>\n",
       "      <td>2917</td>\n",
       "      <td>1910635</td>\n",
       "    </tr>\n",
       "    <tr>\n",
       "      <th>6</th>\n",
       "      <td>6</td>\n",
       "      <td>Sheena Carter</td>\n",
       "      <td>F</td>\n",
       "      <td>11th</td>\n",
       "      <td>Huang High School</td>\n",
       "      <td>82</td>\n",
       "      <td>80</td>\n",
       "      <td>0</td>\n",
       "      <td>District</td>\n",
       "      <td>2917</td>\n",
       "      <td>1910635</td>\n",
       "    </tr>\n",
       "    <tr>\n",
       "      <th>8</th>\n",
       "      <td>8</td>\n",
       "      <td>Michael Roth</td>\n",
       "      <td>M</td>\n",
       "      <td>10th</td>\n",
       "      <td>Huang High School</td>\n",
       "      <td>95</td>\n",
       "      <td>87</td>\n",
       "      <td>0</td>\n",
       "      <td>District</td>\n",
       "      <td>2917</td>\n",
       "      <td>1910635</td>\n",
       "    </tr>\n",
       "    <tr>\n",
       "      <th>9</th>\n",
       "      <td>9</td>\n",
       "      <td>Matthew Greene</td>\n",
       "      <td>M</td>\n",
       "      <td>10th</td>\n",
       "      <td>Huang High School</td>\n",
       "      <td>96</td>\n",
       "      <td>84</td>\n",
       "      <td>0</td>\n",
       "      <td>District</td>\n",
       "      <td>2917</td>\n",
       "      <td>1910635</td>\n",
       "    </tr>\n",
       "  </tbody>\n",
       "</table>\n",
       "</div>"
      ],
      "text/plain": [
       "   Student ID    student_name gender grade        school_name  reading_score  \\\n",
       "4           4      Bonnie Ray      F   9th  Huang High School             97   \n",
       "5           5   Bryan Miranda      M   9th  Huang High School             94   \n",
       "6           6   Sheena Carter      F  11th  Huang High School             82   \n",
       "8           8    Michael Roth      M  10th  Huang High School             95   \n",
       "9           9  Matthew Greene      M  10th  Huang High School             96   \n",
       "\n",
       "   math_score  School ID      type  size   budget  \n",
       "4          84          0  District  2917  1910635  \n",
       "5          94          0  District  2917  1910635  \n",
       "6          80          0  District  2917  1910635  \n",
       "8          87          0  District  2917  1910635  \n",
       "9          84          0  District  2917  1910635  "
      ]
     },
     "execution_count": 21,
     "metadata": {},
     "output_type": "execute_result"
    }
   ],
   "source": [
    "passing_math_reading = school_data_complete_df[(school_data_complete_df[\"math_score\"]>= 70) & (school_data_complete_df[\"reading_score\"]>= 70)]\n",
    "passing_math_reading.head()"
   ]
  },
  {
   "cell_type": "code",
   "execution_count": 22,
   "id": "29477ca5",
   "metadata": {},
   "outputs": [
    {
     "data": {
      "text/plain": [
       "25528"
      ]
     },
     "execution_count": 22,
     "metadata": {},
     "output_type": "execute_result"
    }
   ],
   "source": [
    "passing_math_reading['student_name'].count()"
   ]
  },
  {
   "cell_type": "code",
   "execution_count": 23,
   "id": "b4fe494b",
   "metadata": {},
   "outputs": [
    {
     "data": {
      "text/plain": [
       "25528"
      ]
     },
     "execution_count": 23,
     "metadata": {},
     "output_type": "execute_result"
    }
   ],
   "source": [
    "passing_math_reading.student_name.count()"
   ]
  },
  {
   "cell_type": "code",
   "execution_count": 24,
   "id": "d6301860",
   "metadata": {},
   "outputs": [
    {
     "data": {
      "text/plain": [
       "65.17232575950983"
      ]
     },
     "execution_count": 24,
     "metadata": {},
     "output_type": "execute_result"
    }
   ],
   "source": [
    "overall_passing_math_reading_count = passing_math_reading[\"student_name\"].count()\n",
    "overall_passing_math_reading_count / student_count * 100\n"
   ]
  },
  {
   "cell_type": "code",
   "execution_count": 25,
   "id": "7da9455d",
   "metadata": {},
   "outputs": [
    {
     "data": {
      "text/plain": [
       "65.17232575950983"
      ]
     },
     "execution_count": 25,
     "metadata": {},
     "output_type": "execute_result"
    }
   ],
   "source": [
    "overall_passing_percentage = overall_passing_math_reading_count / student_count * 100\n",
    "overall_passing_percentage"
   ]
  },
  {
   "cell_type": "code",
   "execution_count": 26,
   "id": "acea3827",
   "metadata": {},
   "outputs": [
    {
     "data": {
      "text/html": [
       "<div>\n",
       "<style scoped>\n",
       "    .dataframe tbody tr th:only-of-type {\n",
       "        vertical-align: middle;\n",
       "    }\n",
       "\n",
       "    .dataframe tbody tr th {\n",
       "        vertical-align: top;\n",
       "    }\n",
       "\n",
       "    .dataframe thead th {\n",
       "        text-align: right;\n",
       "    }\n",
       "</style>\n",
       "<table border=\"1\" class=\"dataframe\">\n",
       "  <thead>\n",
       "    <tr style=\"text-align: right;\">\n",
       "      <th></th>\n",
       "      <th>Total Schools</th>\n",
       "      <th>Total Students</th>\n",
       "      <th>Total Budget</th>\n",
       "      <th>Average Math Score</th>\n",
       "      <th>Average Reading Score</th>\n",
       "      <th>% Passing Math</th>\n",
       "      <th>% Passing Reading</th>\n",
       "      <th>% Overall Passing</th>\n",
       "    </tr>\n",
       "  </thead>\n",
       "  <tbody>\n",
       "    <tr>\n",
       "      <th>0</th>\n",
       "      <td>15</td>\n",
       "      <td>39170</td>\n",
       "      <td>$24,649,428.00</td>\n",
       "      <td>78.985371</td>\n",
       "      <td>81.87784</td>\n",
       "      <td>74.980853</td>\n",
       "      <td>85.805463</td>\n",
       "      <td>65.172326</td>\n",
       "    </tr>\n",
       "  </tbody>\n",
       "</table>\n",
       "</div>"
      ],
      "text/plain": [
       "   Total Schools  Total Students    Total Budget  Average Math Score  \\\n",
       "0             15           39170  $24,649,428.00           78.985371   \n",
       "\n",
       "   Average Reading Score  % Passing Math  % Passing Reading  % Overall Passing  \n",
       "0               81.87784       74.980853          85.805463          65.172326  "
      ]
     },
     "execution_count": 26,
     "metadata": {},
     "output_type": "execute_result"
    }
   ],
   "source": [
    "district_summary_df = pd.DataFrame(\n",
    "          [{\"Total Schools\": school_count,\n",
    "          \"Total Students\": student_count,\n",
    "          \"Total Budget\": total_budget,\n",
    "          \"Average Math Score\": average_math_score,\n",
    "          \"Average Reading Score\": average_reading_score,\n",
    "          \"% Passing Math\": passing_math_percentage,\n",
    "         \"% Passing Reading\": passing_reading_percentage,\n",
    "        \"% Overall Passing\": overall_passing_percentage}])\n",
    "\n",
    "district_summary_df"
   ]
  },
  {
   "cell_type": "code",
   "execution_count": 27,
   "id": "68541c84",
   "metadata": {},
   "outputs": [
    {
     "data": {
      "text/plain": [
       "0    39,170\n",
       "Name: Total Students, dtype: object"
      ]
     },
     "execution_count": 27,
     "metadata": {},
     "output_type": "execute_result"
    }
   ],
   "source": [
    "district_summary_df[\"Total Students\"] = district_summary_df[\"Total Students\"].map(\"{:,}\".format)\n",
    "district_summary_df[\"Total Students\"]"
   ]
  },
  {
   "cell_type": "code",
   "execution_count": 28,
   "id": "0848dea1",
   "metadata": {},
   "outputs": [
    {
     "data": {
      "text/html": [
       "<div>\n",
       "<style scoped>\n",
       "    .dataframe tbody tr th:only-of-type {\n",
       "        vertical-align: middle;\n",
       "    }\n",
       "\n",
       "    .dataframe tbody tr th {\n",
       "        vertical-align: top;\n",
       "    }\n",
       "\n",
       "    .dataframe thead th {\n",
       "        text-align: right;\n",
       "    }\n",
       "</style>\n",
       "<table border=\"1\" class=\"dataframe\">\n",
       "  <thead>\n",
       "    <tr style=\"text-align: right;\">\n",
       "      <th></th>\n",
       "      <th>Total Schools</th>\n",
       "      <th>Total Students</th>\n",
       "      <th>Total Budget</th>\n",
       "      <th>Average Math Score</th>\n",
       "      <th>Average Reading Score</th>\n",
       "      <th>% Passing Math</th>\n",
       "      <th>% Passing Reading</th>\n",
       "      <th>% Overall Passing</th>\n",
       "    </tr>\n",
       "  </thead>\n",
       "  <tbody>\n",
       "    <tr>\n",
       "      <th>0</th>\n",
       "      <td>15</td>\n",
       "      <td>39,170</td>\n",
       "      <td>$24,649,428.00</td>\n",
       "      <td>78.985371</td>\n",
       "      <td>81.87784</td>\n",
       "      <td>74.980853</td>\n",
       "      <td>85.805463</td>\n",
       "      <td>65.172326</td>\n",
       "    </tr>\n",
       "  </tbody>\n",
       "</table>\n",
       "</div>"
      ],
      "text/plain": [
       "   Total Schools Total Students    Total Budget  Average Math Score  \\\n",
       "0             15         39,170  $24,649,428.00           78.985371   \n",
       "\n",
       "   Average Reading Score  % Passing Math  % Passing Reading  % Overall Passing  \n",
       "0               81.87784       74.980853          85.805463          65.172326  "
      ]
     },
     "execution_count": 28,
     "metadata": {},
     "output_type": "execute_result"
    }
   ],
   "source": [
    "district_summary_df"
   ]
  },
  {
   "cell_type": "code",
   "execution_count": 29,
   "id": "7ffeeaaa",
   "metadata": {},
   "outputs": [
    {
     "data": {
      "text/plain": [
       "Total Schools              int64\n",
       "Total Students            object\n",
       "Total Budget              object\n",
       "Average Math Score       float64\n",
       "Average Reading Score    float64\n",
       "% Passing Math           float64\n",
       "% Passing Reading        float64\n",
       "% Overall Passing        float64\n",
       "dtype: object"
      ]
     },
     "execution_count": 29,
     "metadata": {},
     "output_type": "execute_result"
    }
   ],
   "source": [
    "district_summary_df.dtypes"
   ]
  },
  {
   "cell_type": "code",
   "execution_count": 30,
   "id": "18abeeae",
   "metadata": {},
   "outputs": [],
   "source": [
    "district_summary_df[\"% Overall Passing\"] = district_summary_df[\"% Overall Passing\"].map(\"{:.0f}\".format)"
   ]
  },
  {
   "cell_type": "code",
   "execution_count": 31,
   "id": "93bf77f9",
   "metadata": {},
   "outputs": [],
   "source": [
    "district_summary_df[\"% Passing Reading\"] = district_summary_df[\"% Passing Reading\"].map(\"{:.0f}\".format)"
   ]
  },
  {
   "cell_type": "code",
   "execution_count": 32,
   "id": "12373307",
   "metadata": {},
   "outputs": [],
   "source": [
    "district_summary_df[\"% Passing Math\"] = district_summary_df[\"% Passing Math\"].map(\"{:.0f}\".format)"
   ]
  },
  {
   "cell_type": "code",
   "execution_count": 33,
   "id": "ab15eca8",
   "metadata": {},
   "outputs": [],
   "source": [
    "district_summary_df[\"Average Reading Score\"] = district_summary_df[\"Average Reading Score\"].astype(float, errors = 'raise')\n",
    "district_summary_df[\"Average Reading Score\"] = district_summary_df[\"Average Reading Score\"].map(\"{:.1f}\".format)"
   ]
  },
  {
   "cell_type": "code",
   "execution_count": 34,
   "id": "0ac5d7cd",
   "metadata": {},
   "outputs": [],
   "source": [
    "district_summary_df[\"Average Math Score\"] = district_summary_df[\"Average Math Score\"].astype(float, errors = 'raise')\n",
    "district_summary_df[\"Average Math Score\"] = district_summary_df[\"Average Math Score\"].map(\"{:.1f}\".format)"
   ]
  },
  {
   "cell_type": "code",
   "execution_count": 35,
   "id": "9d7a221e",
   "metadata": {},
   "outputs": [
    {
     "data": {
      "text/html": [
       "<div>\n",
       "<style scoped>\n",
       "    .dataframe tbody tr th:only-of-type {\n",
       "        vertical-align: middle;\n",
       "    }\n",
       "\n",
       "    .dataframe tbody tr th {\n",
       "        vertical-align: top;\n",
       "    }\n",
       "\n",
       "    .dataframe thead th {\n",
       "        text-align: right;\n",
       "    }\n",
       "</style>\n",
       "<table border=\"1\" class=\"dataframe\">\n",
       "  <thead>\n",
       "    <tr style=\"text-align: right;\">\n",
       "      <th></th>\n",
       "      <th>Total Schools</th>\n",
       "      <th>Total Students</th>\n",
       "      <th>Total Budget</th>\n",
       "      <th>Average Math Score</th>\n",
       "      <th>Average Reading Score</th>\n",
       "      <th>% Passing Math</th>\n",
       "      <th>% Passing Reading</th>\n",
       "      <th>% Overall Passing</th>\n",
       "    </tr>\n",
       "  </thead>\n",
       "  <tbody>\n",
       "    <tr>\n",
       "      <th>0</th>\n",
       "      <td>15</td>\n",
       "      <td>39,170</td>\n",
       "      <td>$24,649,428.00</td>\n",
       "      <td>79.0</td>\n",
       "      <td>81.9</td>\n",
       "      <td>75</td>\n",
       "      <td>86</td>\n",
       "      <td>65</td>\n",
       "    </tr>\n",
       "  </tbody>\n",
       "</table>\n",
       "</div>"
      ],
      "text/plain": [
       "   Total Schools Total Students    Total Budget Average Math Score  \\\n",
       "0             15         39,170  $24,649,428.00               79.0   \n",
       "\n",
       "  Average Reading Score % Passing Math % Passing Reading % Overall Passing  \n",
       "0                  81.9             75                86                65  "
      ]
     },
     "execution_count": 35,
     "metadata": {},
     "output_type": "execute_result"
    }
   ],
   "source": [
    "district_summary_df"
   ]
  },
  {
   "cell_type": "code",
   "execution_count": 36,
   "id": "7cbbd821",
   "metadata": {},
   "outputs": [
    {
     "data": {
      "text/html": [
       "<div>\n",
       "<style scoped>\n",
       "    .dataframe tbody tr th:only-of-type {\n",
       "        vertical-align: middle;\n",
       "    }\n",
       "\n",
       "    .dataframe tbody tr th {\n",
       "        vertical-align: top;\n",
       "    }\n",
       "\n",
       "    .dataframe thead th {\n",
       "        text-align: right;\n",
       "    }\n",
       "</style>\n",
       "<table border=\"1\" class=\"dataframe\">\n",
       "  <thead>\n",
       "    <tr style=\"text-align: right;\">\n",
       "      <th></th>\n",
       "      <th>Total Schools</th>\n",
       "      <th>Total Students</th>\n",
       "      <th>Total Budget</th>\n",
       "      <th>Average Math Score</th>\n",
       "      <th>Average Reading Score</th>\n",
       "      <th>% Passing Math</th>\n",
       "      <th>% Passing Reading</th>\n",
       "      <th>% Overall Passing</th>\n",
       "    </tr>\n",
       "  </thead>\n",
       "  <tbody>\n",
       "    <tr>\n",
       "      <th>0</th>\n",
       "      <td>15</td>\n",
       "      <td>39,170</td>\n",
       "      <td>$24,649,428.00</td>\n",
       "      <td>79.0</td>\n",
       "      <td>81.9</td>\n",
       "      <td>75</td>\n",
       "      <td>86</td>\n",
       "      <td>65</td>\n",
       "    </tr>\n",
       "  </tbody>\n",
       "</table>\n",
       "</div>"
      ],
      "text/plain": [
       "   Total Schools Total Students    Total Budget Average Math Score  \\\n",
       "0             15         39,170  $24,649,428.00               79.0   \n",
       "\n",
       "  Average Reading Score % Passing Math % Passing Reading % Overall Passing  \n",
       "0                  81.9             75                86                65  "
      ]
     },
     "execution_count": 36,
     "metadata": {},
     "output_type": "execute_result"
    }
   ],
   "source": [
    "new_column_order = [\"Total Schools\", \"Total Students\", \"Total Budget\",\"Average Math Score\", \"Average Reading Score\", \"% Passing Math\", \"% Passing Reading\", \"% Overall Passing\"]\n",
    "district_summary_df = district_summary_df[new_column_order]\n",
    "district_summary_df"
   ]
  },
  {
   "cell_type": "code",
   "execution_count": 37,
   "id": "09f6020c",
   "metadata": {
    "scrolled": true
   },
   "outputs": [
    {
     "data": {
      "text/plain": [
       "school_name\n",
       "Huang High School        District\n",
       "Figueroa High School     District\n",
       "Shelton High School       Charter\n",
       "Hernandez High School    District\n",
       "Griffin High School       Charter\n",
       "Wilson High School        Charter\n",
       "Cabrera High School       Charter\n",
       "Bailey High School       District\n",
       "Holden High School        Charter\n",
       "Pena High School          Charter\n",
       "Wright High School        Charter\n",
       "Rodriguez High School    District\n",
       "Johnson High School      District\n",
       "Ford High School         District\n",
       "Thomas High School        Charter\n",
       "Name: type, dtype: object"
      ]
     },
     "execution_count": 37,
     "metadata": {},
     "output_type": "execute_result"
    }
   ],
   "source": [
    "per_school_types = school_data_df.set_index([\"school_name\"])[\"type\"]\n",
    "per_school_types"
   ]
  },
  {
   "cell_type": "code",
   "execution_count": 38,
   "id": "83ef463a",
   "metadata": {
    "scrolled": true
   },
   "outputs": [
    {
     "data": {
      "text/html": [
       "<div>\n",
       "<style scoped>\n",
       "    .dataframe tbody tr th:only-of-type {\n",
       "        vertical-align: middle;\n",
       "    }\n",
       "\n",
       "    .dataframe tbody tr th {\n",
       "        vertical-align: top;\n",
       "    }\n",
       "\n",
       "    .dataframe thead th {\n",
       "        text-align: right;\n",
       "    }\n",
       "</style>\n",
       "<table border=\"1\" class=\"dataframe\">\n",
       "  <thead>\n",
       "    <tr style=\"text-align: right;\">\n",
       "      <th></th>\n",
       "      <th>type</th>\n",
       "    </tr>\n",
       "    <tr>\n",
       "      <th>school_name</th>\n",
       "      <th></th>\n",
       "    </tr>\n",
       "  </thead>\n",
       "  <tbody>\n",
       "    <tr>\n",
       "      <th>Huang High School</th>\n",
       "      <td>District</td>\n",
       "    </tr>\n",
       "    <tr>\n",
       "      <th>Figueroa High School</th>\n",
       "      <td>District</td>\n",
       "    </tr>\n",
       "    <tr>\n",
       "      <th>Shelton High School</th>\n",
       "      <td>Charter</td>\n",
       "    </tr>\n",
       "    <tr>\n",
       "      <th>Hernandez High School</th>\n",
       "      <td>District</td>\n",
       "    </tr>\n",
       "    <tr>\n",
       "      <th>Griffin High School</th>\n",
       "      <td>Charter</td>\n",
       "    </tr>\n",
       "    <tr>\n",
       "      <th>Wilson High School</th>\n",
       "      <td>Charter</td>\n",
       "    </tr>\n",
       "    <tr>\n",
       "      <th>Cabrera High School</th>\n",
       "      <td>Charter</td>\n",
       "    </tr>\n",
       "    <tr>\n",
       "      <th>Bailey High School</th>\n",
       "      <td>District</td>\n",
       "    </tr>\n",
       "    <tr>\n",
       "      <th>Holden High School</th>\n",
       "      <td>Charter</td>\n",
       "    </tr>\n",
       "    <tr>\n",
       "      <th>Pena High School</th>\n",
       "      <td>Charter</td>\n",
       "    </tr>\n",
       "    <tr>\n",
       "      <th>Wright High School</th>\n",
       "      <td>Charter</td>\n",
       "    </tr>\n",
       "    <tr>\n",
       "      <th>Rodriguez High School</th>\n",
       "      <td>District</td>\n",
       "    </tr>\n",
       "    <tr>\n",
       "      <th>Johnson High School</th>\n",
       "      <td>District</td>\n",
       "    </tr>\n",
       "    <tr>\n",
       "      <th>Ford High School</th>\n",
       "      <td>District</td>\n",
       "    </tr>\n",
       "    <tr>\n",
       "      <th>Thomas High School</th>\n",
       "      <td>Charter</td>\n",
       "    </tr>\n",
       "  </tbody>\n",
       "</table>\n",
       "</div>"
      ],
      "text/plain": [
       "                           type\n",
       "school_name                    \n",
       "Huang High School      District\n",
       "Figueroa High School   District\n",
       "Shelton High School     Charter\n",
       "Hernandez High School  District\n",
       "Griffin High School     Charter\n",
       "Wilson High School      Charter\n",
       "Cabrera High School     Charter\n",
       "Bailey High School     District\n",
       "Holden High School      Charter\n",
       "Pena High School        Charter\n",
       "Wright High School      Charter\n",
       "Rodriguez High School  District\n",
       "Johnson High School    District\n",
       "Ford High School       District\n",
       "Thomas High School      Charter"
      ]
     },
     "execution_count": 38,
     "metadata": {},
     "output_type": "execute_result"
    }
   ],
   "source": [
    "df = pd.DataFrame(per_school_types)\n",
    "df"
   ]
  },
  {
   "cell_type": "code",
   "execution_count": 39,
   "id": "c23a474c",
   "metadata": {},
   "outputs": [
    {
     "data": {
      "text/plain": [
       "school_name\n",
       "Huang High School        2917\n",
       "Figueroa High School     2949\n",
       "Shelton High School      1761\n",
       "Hernandez High School    4635\n",
       "Griffin High School      1468\n",
       "Wilson High School       2283\n",
       "Cabrera High School      1858\n",
       "Bailey High School       4976\n",
       "Holden High School        427\n",
       "Pena High School          962\n",
       "Wright High School       1800\n",
       "Rodriguez High School    3999\n",
       "Johnson High School      4761\n",
       "Ford High School         2739\n",
       "Thomas High School       1635\n",
       "Name: size, dtype: int64"
      ]
     },
     "execution_count": 39,
     "metadata": {},
     "output_type": "execute_result"
    }
   ],
   "source": [
    "per_school_counts = school_data_df.set_index([\"school_name\"])[\"size\"]\n",
    "per_school_counts"
   ]
  },
  {
   "cell_type": "code",
   "execution_count": 40,
   "id": "9db3696a",
   "metadata": {},
   "outputs": [
    {
     "data": {
      "text/plain": [
       "Bailey High School       4976\n",
       "Johnson High School      4761\n",
       "Hernandez High School    4635\n",
       "Rodriguez High School    3999\n",
       "Figueroa High School     2949\n",
       "Huang High School        2917\n",
       "Ford High School         2739\n",
       "Wilson High School       2283\n",
       "Cabrera High School      1858\n",
       "Wright High School       1800\n",
       "Shelton High School      1761\n",
       "Thomas High School       1635\n",
       "Griffin High School      1468\n",
       "Pena High School          962\n",
       "Holden High School        427\n",
       "Name: school_name, dtype: int64"
      ]
     },
     "execution_count": 40,
     "metadata": {},
     "output_type": "execute_result"
    }
   ],
   "source": [
    "per_school_counts = school_data_complete_df[\"school_name\"].value_counts()\n",
    "per_school_counts"
   ]
  },
  {
   "cell_type": "code",
   "execution_count": 41,
   "id": "57736881",
   "metadata": {},
   "outputs": [
    {
     "data": {
      "text/plain": [
       "school_name\n",
       "Huang High School        1910635\n",
       "Figueroa High School     1884411\n",
       "Shelton High School      1056600\n",
       "Hernandez High School    3022020\n",
       "Griffin High School       917500\n",
       "Wilson High School       1319574\n",
       "Cabrera High School      1081356\n",
       "Bailey High School       3124928\n",
       "Holden High School        248087\n",
       "Pena High School          585858\n",
       "Wright High School       1049400\n",
       "Rodriguez High School    2547363\n",
       "Johnson High School      3094650\n",
       "Ford High School         1763916\n",
       "Thomas High School       1043130\n",
       "Name: budget, dtype: int64"
      ]
     },
     "execution_count": 41,
     "metadata": {},
     "output_type": "execute_result"
    }
   ],
   "source": [
    "per_school_budget = school_data_df.set_index([\"school_name\"])[\"budget\"]\n",
    "per_school_budget"
   ]
  },
  {
   "cell_type": "code",
   "execution_count": 42,
   "id": "5053bb52",
   "metadata": {},
   "outputs": [
    {
     "data": {
      "text/plain": [
       "Bailey High School       628.0\n",
       "Cabrera High School      582.0\n",
       "Figueroa High School     639.0\n",
       "Ford High School         644.0\n",
       "Griffin High School      625.0\n",
       "Hernandez High School    652.0\n",
       "Holden High School       581.0\n",
       "Huang High School        655.0\n",
       "Johnson High School      650.0\n",
       "Pena High School         609.0\n",
       "Rodriguez High School    637.0\n",
       "Shelton High School      600.0\n",
       "Thomas High School       638.0\n",
       "Wilson High School       578.0\n",
       "Wright High School       583.0\n",
       "dtype: float64"
      ]
     },
     "execution_count": 42,
     "metadata": {},
     "output_type": "execute_result"
    }
   ],
   "source": [
    "per_school_capita = per_school_budget / per_school_counts\n",
    "per_school_capita"
   ]
  },
  {
   "cell_type": "code",
   "execution_count": 43,
   "id": "ed4b7b77",
   "metadata": {},
   "outputs": [
    {
     "data": {
      "text/plain": [
       "school_name\n",
       "Huang High School     79\n",
       "Huang High School     61\n",
       "Huang High School     60\n",
       "Huang High School     58\n",
       "Huang High School     84\n",
       "                      ..\n",
       "Thomas High School    90\n",
       "Thomas High School    70\n",
       "Thomas High School    84\n",
       "Thomas High School    90\n",
       "Thomas High School    75\n",
       "Name: math_score, Length: 39170, dtype: int64"
      ]
     },
     "execution_count": 43,
     "metadata": {},
     "output_type": "execute_result"
    }
   ],
   "source": [
    "student_school_math = student_data_df.set_index([\"school_name\"])[\"math_score\"]\n",
    "student_school_math "
   ]
  },
  {
   "cell_type": "code",
   "execution_count": 44,
   "id": "08a3f2cc",
   "metadata": {},
   "outputs": [
    {
     "data": {
      "text/plain": [
       "school_name\n",
       "Bailey High School       77.048432\n",
       "Cabrera High School      83.061895\n",
       "Figueroa High School     76.711767\n",
       "Ford High School         77.102592\n",
       "Griffin High School      83.351499\n",
       "Hernandez High School    77.289752\n",
       "Holden High School       83.803279\n",
       "Huang High School        76.629414\n",
       "Johnson High School      77.072464\n",
       "Pena High School         83.839917\n",
       "Rodriguez High School    76.842711\n",
       "Shelton High School      83.359455\n",
       "Thomas High School       83.418349\n",
       "Wilson High School       83.274201\n",
       "Wright High School       83.682222\n",
       "Name: math_score, dtype: float64"
      ]
     },
     "execution_count": 44,
     "metadata": {},
     "output_type": "execute_result"
    }
   ],
   "source": [
    "per_school_averages = school_data_complete_df.groupby([\"school_name\"]).mean()[\"math_score\"]\n",
    "per_school_averages"
   ]
  },
  {
   "cell_type": "code",
   "execution_count": 45,
   "id": "c8e98006",
   "metadata": {},
   "outputs": [
    {
     "data": {
      "text/plain": [
       "school_name\n",
       "Bailey High School       77.048432\n",
       "Cabrera High School      83.061895\n",
       "Figueroa High School     76.711767\n",
       "Ford High School         77.102592\n",
       "Griffin High School      83.351499\n",
       "Hernandez High School    77.289752\n",
       "Holden High School       83.803279\n",
       "Huang High School        76.629414\n",
       "Johnson High School      77.072464\n",
       "Pena High School         83.839917\n",
       "Rodriguez High School    76.842711\n",
       "Shelton High School      83.359455\n",
       "Thomas High School       83.418349\n",
       "Wilson High School       83.274201\n",
       "Wright High School       83.682222\n",
       "Name: math_score, dtype: float64"
      ]
     },
     "execution_count": 45,
     "metadata": {},
     "output_type": "execute_result"
    }
   ],
   "source": [
    "per_school_math = school_data_complete_df.groupby([\"school_name\"]).mean()[\"math_score\"]\n",
    "per_school_math "
   ]
  },
  {
   "cell_type": "code",
   "execution_count": 46,
   "id": "8797c82f",
   "metadata": {},
   "outputs": [
    {
     "data": {
      "text/plain": [
       "school_name\n",
       "Bailey High School       81.033963\n",
       "Cabrera High School      83.975780\n",
       "Figueroa High School     81.158020\n",
       "Ford High School         80.746258\n",
       "Griffin High School      83.816757\n",
       "Hernandez High School    80.934412\n",
       "Holden High School       83.814988\n",
       "Huang High School        81.182722\n",
       "Johnson High School      80.966394\n",
       "Pena High School         84.044699\n",
       "Rodriguez High School    80.744686\n",
       "Shelton High School      83.725724\n",
       "Thomas High School       83.848930\n",
       "Wilson High School       83.989488\n",
       "Wright High School       83.955000\n",
       "Name: reading_score, dtype: float64"
      ]
     },
     "execution_count": 46,
     "metadata": {},
     "output_type": "execute_result"
    }
   ],
   "source": [
    "per_school_reading = school_data_complete_df.groupby([\"school_name\"]).mean()[\"reading_score\"]\n",
    "per_school_reading "
   ]
  },
  {
   "cell_type": "code",
   "execution_count": 47,
   "id": "c2840056",
   "metadata": {},
   "outputs": [
    {
     "data": {
      "text/html": [
       "<div>\n",
       "<style scoped>\n",
       "    .dataframe tbody tr th:only-of-type {\n",
       "        vertical-align: middle;\n",
       "    }\n",
       "\n",
       "    .dataframe tbody tr th {\n",
       "        vertical-align: top;\n",
       "    }\n",
       "\n",
       "    .dataframe thead th {\n",
       "        text-align: right;\n",
       "    }\n",
       "</style>\n",
       "<table border=\"1\" class=\"dataframe\">\n",
       "  <thead>\n",
       "    <tr style=\"text-align: right;\">\n",
       "      <th></th>\n",
       "      <th>Student ID</th>\n",
       "      <th>student_name</th>\n",
       "      <th>gender</th>\n",
       "      <th>grade</th>\n",
       "      <th>school_name</th>\n",
       "      <th>reading_score</th>\n",
       "      <th>math_score</th>\n",
       "      <th>School ID</th>\n",
       "      <th>type</th>\n",
       "      <th>size</th>\n",
       "      <th>budget</th>\n",
       "    </tr>\n",
       "  </thead>\n",
       "  <tbody>\n",
       "    <tr>\n",
       "      <th>0</th>\n",
       "      <td>0</td>\n",
       "      <td>Paul Bradley</td>\n",
       "      <td>M</td>\n",
       "      <td>9th</td>\n",
       "      <td>Huang High School</td>\n",
       "      <td>66</td>\n",
       "      <td>79</td>\n",
       "      <td>0</td>\n",
       "      <td>District</td>\n",
       "      <td>2917</td>\n",
       "      <td>1910635</td>\n",
       "    </tr>\n",
       "    <tr>\n",
       "      <th>4</th>\n",
       "      <td>4</td>\n",
       "      <td>Bonnie Ray</td>\n",
       "      <td>F</td>\n",
       "      <td>9th</td>\n",
       "      <td>Huang High School</td>\n",
       "      <td>97</td>\n",
       "      <td>84</td>\n",
       "      <td>0</td>\n",
       "      <td>District</td>\n",
       "      <td>2917</td>\n",
       "      <td>1910635</td>\n",
       "    </tr>\n",
       "    <tr>\n",
       "      <th>5</th>\n",
       "      <td>5</td>\n",
       "      <td>Bryan Miranda</td>\n",
       "      <td>M</td>\n",
       "      <td>9th</td>\n",
       "      <td>Huang High School</td>\n",
       "      <td>94</td>\n",
       "      <td>94</td>\n",
       "      <td>0</td>\n",
       "      <td>District</td>\n",
       "      <td>2917</td>\n",
       "      <td>1910635</td>\n",
       "    </tr>\n",
       "    <tr>\n",
       "      <th>6</th>\n",
       "      <td>6</td>\n",
       "      <td>Sheena Carter</td>\n",
       "      <td>F</td>\n",
       "      <td>11th</td>\n",
       "      <td>Huang High School</td>\n",
       "      <td>82</td>\n",
       "      <td>80</td>\n",
       "      <td>0</td>\n",
       "      <td>District</td>\n",
       "      <td>2917</td>\n",
       "      <td>1910635</td>\n",
       "    </tr>\n",
       "    <tr>\n",
       "      <th>8</th>\n",
       "      <td>8</td>\n",
       "      <td>Michael Roth</td>\n",
       "      <td>M</td>\n",
       "      <td>10th</td>\n",
       "      <td>Huang High School</td>\n",
       "      <td>95</td>\n",
       "      <td>87</td>\n",
       "      <td>0</td>\n",
       "      <td>District</td>\n",
       "      <td>2917</td>\n",
       "      <td>1910635</td>\n",
       "    </tr>\n",
       "  </tbody>\n",
       "</table>\n",
       "</div>"
      ],
      "text/plain": [
       "   Student ID   student_name gender grade        school_name  reading_score  \\\n",
       "0           0   Paul Bradley      M   9th  Huang High School             66   \n",
       "4           4     Bonnie Ray      F   9th  Huang High School             97   \n",
       "5           5  Bryan Miranda      M   9th  Huang High School             94   \n",
       "6           6  Sheena Carter      F  11th  Huang High School             82   \n",
       "8           8   Michael Roth      M  10th  Huang High School             95   \n",
       "\n",
       "   math_score  School ID      type  size   budget  \n",
       "0          79          0  District  2917  1910635  \n",
       "4          84          0  District  2917  1910635  \n",
       "5          94          0  District  2917  1910635  \n",
       "6          80          0  District  2917  1910635  \n",
       "8          87          0  District  2917  1910635  "
      ]
     },
     "execution_count": 47,
     "metadata": {},
     "output_type": "execute_result"
    }
   ],
   "source": [
    "per_school_passing_math = school_data_complete_df[(school_data_complete_df['math_score'] >= 70)]\n",
    "per_school_passing_math.head()"
   ]
  },
  {
   "cell_type": "code",
   "execution_count": 48,
   "id": "0c3ed485",
   "metadata": {},
   "outputs": [
    {
     "data": {
      "text/html": [
       "<div>\n",
       "<style scoped>\n",
       "    .dataframe tbody tr th:only-of-type {\n",
       "        vertical-align: middle;\n",
       "    }\n",
       "\n",
       "    .dataframe tbody tr th {\n",
       "        vertical-align: top;\n",
       "    }\n",
       "\n",
       "    .dataframe thead th {\n",
       "        text-align: right;\n",
       "    }\n",
       "</style>\n",
       "<table border=\"1\" class=\"dataframe\">\n",
       "  <thead>\n",
       "    <tr style=\"text-align: right;\">\n",
       "      <th></th>\n",
       "      <th>Student ID</th>\n",
       "      <th>student_name</th>\n",
       "      <th>gender</th>\n",
       "      <th>grade</th>\n",
       "      <th>school_name</th>\n",
       "      <th>reading_score</th>\n",
       "      <th>math_score</th>\n",
       "      <th>School ID</th>\n",
       "      <th>type</th>\n",
       "      <th>size</th>\n",
       "      <th>budget</th>\n",
       "    </tr>\n",
       "  </thead>\n",
       "  <tbody>\n",
       "    <tr>\n",
       "      <th>1</th>\n",
       "      <td>1</td>\n",
       "      <td>Victor Smith</td>\n",
       "      <td>M</td>\n",
       "      <td>12th</td>\n",
       "      <td>Huang High School</td>\n",
       "      <td>94</td>\n",
       "      <td>61</td>\n",
       "      <td>0</td>\n",
       "      <td>District</td>\n",
       "      <td>2917</td>\n",
       "      <td>1910635</td>\n",
       "    </tr>\n",
       "    <tr>\n",
       "      <th>2</th>\n",
       "      <td>2</td>\n",
       "      <td>Kevin Rodriguez</td>\n",
       "      <td>M</td>\n",
       "      <td>12th</td>\n",
       "      <td>Huang High School</td>\n",
       "      <td>90</td>\n",
       "      <td>60</td>\n",
       "      <td>0</td>\n",
       "      <td>District</td>\n",
       "      <td>2917</td>\n",
       "      <td>1910635</td>\n",
       "    </tr>\n",
       "    <tr>\n",
       "      <th>4</th>\n",
       "      <td>4</td>\n",
       "      <td>Bonnie Ray</td>\n",
       "      <td>F</td>\n",
       "      <td>9th</td>\n",
       "      <td>Huang High School</td>\n",
       "      <td>97</td>\n",
       "      <td>84</td>\n",
       "      <td>0</td>\n",
       "      <td>District</td>\n",
       "      <td>2917</td>\n",
       "      <td>1910635</td>\n",
       "    </tr>\n",
       "    <tr>\n",
       "      <th>5</th>\n",
       "      <td>5</td>\n",
       "      <td>Bryan Miranda</td>\n",
       "      <td>M</td>\n",
       "      <td>9th</td>\n",
       "      <td>Huang High School</td>\n",
       "      <td>94</td>\n",
       "      <td>94</td>\n",
       "      <td>0</td>\n",
       "      <td>District</td>\n",
       "      <td>2917</td>\n",
       "      <td>1910635</td>\n",
       "    </tr>\n",
       "    <tr>\n",
       "      <th>6</th>\n",
       "      <td>6</td>\n",
       "      <td>Sheena Carter</td>\n",
       "      <td>F</td>\n",
       "      <td>11th</td>\n",
       "      <td>Huang High School</td>\n",
       "      <td>82</td>\n",
       "      <td>80</td>\n",
       "      <td>0</td>\n",
       "      <td>District</td>\n",
       "      <td>2917</td>\n",
       "      <td>1910635</td>\n",
       "    </tr>\n",
       "  </tbody>\n",
       "</table>\n",
       "</div>"
      ],
      "text/plain": [
       "   Student ID     student_name gender grade        school_name  reading_score  \\\n",
       "1           1     Victor Smith      M  12th  Huang High School             94   \n",
       "2           2  Kevin Rodriguez      M  12th  Huang High School             90   \n",
       "4           4       Bonnie Ray      F   9th  Huang High School             97   \n",
       "5           5    Bryan Miranda      M   9th  Huang High School             94   \n",
       "6           6    Sheena Carter      F  11th  Huang High School             82   \n",
       "\n",
       "   math_score  School ID      type  size   budget  \n",
       "1          61          0  District  2917  1910635  \n",
       "2          60          0  District  2917  1910635  \n",
       "4          84          0  District  2917  1910635  \n",
       "5          94          0  District  2917  1910635  \n",
       "6          80          0  District  2917  1910635  "
      ]
     },
     "execution_count": 48,
     "metadata": {},
     "output_type": "execute_result"
    }
   ],
   "source": [
    "per_school_passing_reading = school_data_complete_df[(school_data_complete_df['reading_score'] >= 70)]\n",
    "per_school_passing_reading.head()"
   ]
  },
  {
   "cell_type": "code",
   "execution_count": 49,
   "id": "1cdc1ee0",
   "metadata": {},
   "outputs": [
    {
     "data": {
      "text/plain": [
       "school_name\n",
       "Bailey High School       3318\n",
       "Cabrera High School      1749\n",
       "Figueroa High School     1946\n",
       "Ford High School         1871\n",
       "Griffin High School      1371\n",
       "Hernandez High School    3094\n",
       "Holden High School        395\n",
       "Huang High School        1916\n",
       "Johnson High School      3145\n",
       "Pena High School          910\n",
       "Rodriguez High School    2654\n",
       "Shelton High School      1653\n",
       "Thomas High School       1525\n",
       "Wilson High School       2143\n",
       "Wright High School       1680\n",
       "Name: student_name, dtype: int64"
      ]
     },
     "execution_count": 49,
     "metadata": {},
     "output_type": "execute_result"
    }
   ],
   "source": [
    "per_school_passing_math = per_school_passing_math.groupby([\"school_name\"]).count()[\"student_name\"]\n",
    "per_school_passing_math"
   ]
  },
  {
   "cell_type": "code",
   "execution_count": 50,
   "id": "919fb5af",
   "metadata": {},
   "outputs": [
    {
     "data": {
      "text/plain": [
       "school_name\n",
       "Bailey High School       4077\n",
       "Cabrera High School      1803\n",
       "Figueroa High School     2381\n",
       "Ford High School         2172\n",
       "Griffin High School      1426\n",
       "Hernandez High School    3748\n",
       "Holden High School        411\n",
       "Huang High School        2372\n",
       "Johnson High School      3867\n",
       "Pena High School          923\n",
       "Rodriguez High School    3208\n",
       "Shelton High School      1688\n",
       "Thomas High School       1591\n",
       "Wilson High School       2204\n",
       "Wright High School       1739\n",
       "Name: student_name, dtype: int64"
      ]
     },
     "execution_count": 50,
     "metadata": {},
     "output_type": "execute_result"
    }
   ],
   "source": [
    "per_school_passing_reading = per_school_passing_reading.groupby([\"school_name\"]).count()[\"student_name\"]\n",
    "per_school_passing_reading"
   ]
  },
  {
   "cell_type": "code",
   "execution_count": 51,
   "id": "14bd65de",
   "metadata": {},
   "outputs": [
    {
     "data": {
      "text/html": [
       "<div>\n",
       "<style scoped>\n",
       "    .dataframe tbody tr th:only-of-type {\n",
       "        vertical-align: middle;\n",
       "    }\n",
       "\n",
       "    .dataframe tbody tr th {\n",
       "        vertical-align: top;\n",
       "    }\n",
       "\n",
       "    .dataframe thead th {\n",
       "        text-align: right;\n",
       "    }\n",
       "</style>\n",
       "<table border=\"1\" class=\"dataframe\">\n",
       "  <thead>\n",
       "    <tr style=\"text-align: right;\">\n",
       "      <th></th>\n",
       "      <th>Student ID</th>\n",
       "      <th>student_name</th>\n",
       "      <th>gender</th>\n",
       "      <th>grade</th>\n",
       "      <th>school_name</th>\n",
       "      <th>reading_score</th>\n",
       "      <th>math_score</th>\n",
       "      <th>School ID</th>\n",
       "      <th>type</th>\n",
       "      <th>size</th>\n",
       "      <th>budget</th>\n",
       "    </tr>\n",
       "  </thead>\n",
       "  <tbody>\n",
       "    <tr>\n",
       "      <th>4</th>\n",
       "      <td>4</td>\n",
       "      <td>Bonnie Ray</td>\n",
       "      <td>F</td>\n",
       "      <td>9th</td>\n",
       "      <td>Huang High School</td>\n",
       "      <td>97</td>\n",
       "      <td>84</td>\n",
       "      <td>0</td>\n",
       "      <td>District</td>\n",
       "      <td>2917</td>\n",
       "      <td>1910635</td>\n",
       "    </tr>\n",
       "    <tr>\n",
       "      <th>5</th>\n",
       "      <td>5</td>\n",
       "      <td>Bryan Miranda</td>\n",
       "      <td>M</td>\n",
       "      <td>9th</td>\n",
       "      <td>Huang High School</td>\n",
       "      <td>94</td>\n",
       "      <td>94</td>\n",
       "      <td>0</td>\n",
       "      <td>District</td>\n",
       "      <td>2917</td>\n",
       "      <td>1910635</td>\n",
       "    </tr>\n",
       "    <tr>\n",
       "      <th>6</th>\n",
       "      <td>6</td>\n",
       "      <td>Sheena Carter</td>\n",
       "      <td>F</td>\n",
       "      <td>11th</td>\n",
       "      <td>Huang High School</td>\n",
       "      <td>82</td>\n",
       "      <td>80</td>\n",
       "      <td>0</td>\n",
       "      <td>District</td>\n",
       "      <td>2917</td>\n",
       "      <td>1910635</td>\n",
       "    </tr>\n",
       "    <tr>\n",
       "      <th>8</th>\n",
       "      <td>8</td>\n",
       "      <td>Michael Roth</td>\n",
       "      <td>M</td>\n",
       "      <td>10th</td>\n",
       "      <td>Huang High School</td>\n",
       "      <td>95</td>\n",
       "      <td>87</td>\n",
       "      <td>0</td>\n",
       "      <td>District</td>\n",
       "      <td>2917</td>\n",
       "      <td>1910635</td>\n",
       "    </tr>\n",
       "    <tr>\n",
       "      <th>9</th>\n",
       "      <td>9</td>\n",
       "      <td>Matthew Greene</td>\n",
       "      <td>M</td>\n",
       "      <td>10th</td>\n",
       "      <td>Huang High School</td>\n",
       "      <td>96</td>\n",
       "      <td>84</td>\n",
       "      <td>0</td>\n",
       "      <td>District</td>\n",
       "      <td>2917</td>\n",
       "      <td>1910635</td>\n",
       "    </tr>\n",
       "    <tr>\n",
       "      <th>...</th>\n",
       "      <td>...</td>\n",
       "      <td>...</td>\n",
       "      <td>...</td>\n",
       "      <td>...</td>\n",
       "      <td>...</td>\n",
       "      <td>...</td>\n",
       "      <td>...</td>\n",
       "      <td>...</td>\n",
       "      <td>...</td>\n",
       "      <td>...</td>\n",
       "      <td>...</td>\n",
       "    </tr>\n",
       "    <tr>\n",
       "      <th>39165</th>\n",
       "      <td>39165</td>\n",
       "      <td>Donna Howard</td>\n",
       "      <td>F</td>\n",
       "      <td>12th</td>\n",
       "      <td>Thomas High School</td>\n",
       "      <td>99</td>\n",
       "      <td>90</td>\n",
       "      <td>14</td>\n",
       "      <td>Charter</td>\n",
       "      <td>1635</td>\n",
       "      <td>1043130</td>\n",
       "    </tr>\n",
       "    <tr>\n",
       "      <th>39166</th>\n",
       "      <td>39166</td>\n",
       "      <td>Dawn Bell</td>\n",
       "      <td>F</td>\n",
       "      <td>10th</td>\n",
       "      <td>Thomas High School</td>\n",
       "      <td>95</td>\n",
       "      <td>70</td>\n",
       "      <td>14</td>\n",
       "      <td>Charter</td>\n",
       "      <td>1635</td>\n",
       "      <td>1043130</td>\n",
       "    </tr>\n",
       "    <tr>\n",
       "      <th>39167</th>\n",
       "      <td>39167</td>\n",
       "      <td>Rebecca Tanner</td>\n",
       "      <td>F</td>\n",
       "      <td>9th</td>\n",
       "      <td>Thomas High School</td>\n",
       "      <td>73</td>\n",
       "      <td>84</td>\n",
       "      <td>14</td>\n",
       "      <td>Charter</td>\n",
       "      <td>1635</td>\n",
       "      <td>1043130</td>\n",
       "    </tr>\n",
       "    <tr>\n",
       "      <th>39168</th>\n",
       "      <td>39168</td>\n",
       "      <td>Desiree Kidd</td>\n",
       "      <td>F</td>\n",
       "      <td>10th</td>\n",
       "      <td>Thomas High School</td>\n",
       "      <td>99</td>\n",
       "      <td>90</td>\n",
       "      <td>14</td>\n",
       "      <td>Charter</td>\n",
       "      <td>1635</td>\n",
       "      <td>1043130</td>\n",
       "    </tr>\n",
       "    <tr>\n",
       "      <th>39169</th>\n",
       "      <td>39169</td>\n",
       "      <td>Carolyn Jackson</td>\n",
       "      <td>F</td>\n",
       "      <td>11th</td>\n",
       "      <td>Thomas High School</td>\n",
       "      <td>95</td>\n",
       "      <td>75</td>\n",
       "      <td>14</td>\n",
       "      <td>Charter</td>\n",
       "      <td>1635</td>\n",
       "      <td>1043130</td>\n",
       "    </tr>\n",
       "  </tbody>\n",
       "</table>\n",
       "<p>25528 rows × 11 columns</p>\n",
       "</div>"
      ],
      "text/plain": [
       "       Student ID     student_name gender grade         school_name  \\\n",
       "4               4       Bonnie Ray      F   9th   Huang High School   \n",
       "5               5    Bryan Miranda      M   9th   Huang High School   \n",
       "6               6    Sheena Carter      F  11th   Huang High School   \n",
       "8               8     Michael Roth      M  10th   Huang High School   \n",
       "9               9   Matthew Greene      M  10th   Huang High School   \n",
       "...           ...              ...    ...   ...                 ...   \n",
       "39165       39165     Donna Howard      F  12th  Thomas High School   \n",
       "39166       39166        Dawn Bell      F  10th  Thomas High School   \n",
       "39167       39167   Rebecca Tanner      F   9th  Thomas High School   \n",
       "39168       39168     Desiree Kidd      F  10th  Thomas High School   \n",
       "39169       39169  Carolyn Jackson      F  11th  Thomas High School   \n",
       "\n",
       "       reading_score  math_score  School ID      type  size   budget  \n",
       "4                 97          84          0  District  2917  1910635  \n",
       "5                 94          94          0  District  2917  1910635  \n",
       "6                 82          80          0  District  2917  1910635  \n",
       "8                 95          87          0  District  2917  1910635  \n",
       "9                 96          84          0  District  2917  1910635  \n",
       "...              ...         ...        ...       ...   ...      ...  \n",
       "39165             99          90         14   Charter  1635  1043130  \n",
       "39166             95          70         14   Charter  1635  1043130  \n",
       "39167             73          84         14   Charter  1635  1043130  \n",
       "39168             99          90         14   Charter  1635  1043130  \n",
       "39169             95          75         14   Charter  1635  1043130  \n",
       "\n",
       "[25528 rows x 11 columns]"
      ]
     },
     "execution_count": 51,
     "metadata": {},
     "output_type": "execute_result"
    }
   ],
   "source": [
    "per_passing_math_reading = school_data_complete_df[(school_data_complete_df[\"math_score\"] >= 70) & (school_data_complete_df[\"reading_score\"] >= 70)]\n",
    "\n",
    "per_passing_math_reading"
   ]
  },
  {
   "cell_type": "code",
   "execution_count": 52,
   "id": "78c38e72",
   "metadata": {},
   "outputs": [],
   "source": [
    "per_passing_math_reading = per_passing_math_reading.groupby([\"school_name\"]).count()[\"student_name\"]"
   ]
  },
  {
   "cell_type": "code",
   "execution_count": 53,
   "id": "8a08ba87",
   "metadata": {},
   "outputs": [],
   "source": [
    "per_school_counts = school_data_complete_df[\"school_name\"].value_counts()"
   ]
  },
  {
   "cell_type": "code",
   "execution_count": 54,
   "id": "6c7ce6f0",
   "metadata": {},
   "outputs": [],
   "source": [
    "per_overall_passing_percentage = per_passing_math_reading / per_school_counts * 100"
   ]
  },
  {
   "cell_type": "code",
   "execution_count": 55,
   "id": "2c099519",
   "metadata": {},
   "outputs": [
    {
     "data": {
      "text/plain": [
       "Bailey High School       54.642283\n",
       "Cabrera High School      91.334769\n",
       "Figueroa High School     53.204476\n",
       "Ford High School         54.289887\n",
       "Griffin High School      90.599455\n",
       "Hernandez High School    53.527508\n",
       "Holden High School       89.227166\n",
       "Huang High School        53.513884\n",
       "Johnson High School      53.539172\n",
       "Pena High School         90.540541\n",
       "Rodriguez High School    52.988247\n",
       "Shelton High School      89.892107\n",
       "Thomas High School       90.948012\n",
       "Wilson High School       90.582567\n",
       "Wright High School       90.333333\n",
       "dtype: float64"
      ]
     },
     "execution_count": 55,
     "metadata": {},
     "output_type": "execute_result"
    }
   ],
   "source": [
    "per_overall_passing_percentage"
   ]
  },
  {
   "cell_type": "code",
   "execution_count": 56,
   "id": "56f56a12",
   "metadata": {},
   "outputs": [
    {
     "data": {
      "text/html": [
       "<div>\n",
       "<style scoped>\n",
       "    .dataframe tbody tr th:only-of-type {\n",
       "        vertical-align: middle;\n",
       "    }\n",
       "\n",
       "    .dataframe tbody tr th {\n",
       "        vertical-align: top;\n",
       "    }\n",
       "\n",
       "    .dataframe thead th {\n",
       "        text-align: right;\n",
       "    }\n",
       "</style>\n",
       "<table border=\"1\" class=\"dataframe\">\n",
       "  <thead>\n",
       "    <tr style=\"text-align: right;\">\n",
       "      <th></th>\n",
       "      <th>School Type</th>\n",
       "      <th>Total Students</th>\n",
       "      <th>Total School Budget</th>\n",
       "      <th>Per Student Budget</th>\n",
       "      <th>Average Math Score</th>\n",
       "      <th>Average Reading Score</th>\n",
       "      <th>% Passing Math</th>\n",
       "      <th>% Passing Reading</th>\n",
       "      <th>% Overall Passing</th>\n",
       "    </tr>\n",
       "  </thead>\n",
       "  <tbody>\n",
       "    <tr>\n",
       "      <th>Bailey High School</th>\n",
       "      <td>District</td>\n",
       "      <td>4976</td>\n",
       "      <td>3124928</td>\n",
       "      <td>628.0</td>\n",
       "      <td>77.048432</td>\n",
       "      <td>81.033963</td>\n",
       "      <td>3318</td>\n",
       "      <td>4077</td>\n",
       "      <td>54.642283</td>\n",
       "    </tr>\n",
       "    <tr>\n",
       "      <th>Cabrera High School</th>\n",
       "      <td>Charter</td>\n",
       "      <td>1858</td>\n",
       "      <td>1081356</td>\n",
       "      <td>582.0</td>\n",
       "      <td>83.061895</td>\n",
       "      <td>83.975780</td>\n",
       "      <td>1749</td>\n",
       "      <td>1803</td>\n",
       "      <td>91.334769</td>\n",
       "    </tr>\n",
       "    <tr>\n",
       "      <th>Figueroa High School</th>\n",
       "      <td>District</td>\n",
       "      <td>2949</td>\n",
       "      <td>1884411</td>\n",
       "      <td>639.0</td>\n",
       "      <td>76.711767</td>\n",
       "      <td>81.158020</td>\n",
       "      <td>1946</td>\n",
       "      <td>2381</td>\n",
       "      <td>53.204476</td>\n",
       "    </tr>\n",
       "    <tr>\n",
       "      <th>Ford High School</th>\n",
       "      <td>District</td>\n",
       "      <td>2739</td>\n",
       "      <td>1763916</td>\n",
       "      <td>644.0</td>\n",
       "      <td>77.102592</td>\n",
       "      <td>80.746258</td>\n",
       "      <td>1871</td>\n",
       "      <td>2172</td>\n",
       "      <td>54.289887</td>\n",
       "    </tr>\n",
       "    <tr>\n",
       "      <th>Griffin High School</th>\n",
       "      <td>Charter</td>\n",
       "      <td>1468</td>\n",
       "      <td>917500</td>\n",
       "      <td>625.0</td>\n",
       "      <td>83.351499</td>\n",
       "      <td>83.816757</td>\n",
       "      <td>1371</td>\n",
       "      <td>1426</td>\n",
       "      <td>90.599455</td>\n",
       "    </tr>\n",
       "  </tbody>\n",
       "</table>\n",
       "</div>"
      ],
      "text/plain": [
       "                     School Type  Total Students  Total School Budget  \\\n",
       "Bailey High School      District            4976              3124928   \n",
       "Cabrera High School      Charter            1858              1081356   \n",
       "Figueroa High School    District            2949              1884411   \n",
       "Ford High School        District            2739              1763916   \n",
       "Griffin High School      Charter            1468               917500   \n",
       "\n",
       "                      Per Student Budget  Average Math Score  \\\n",
       "Bailey High School                 628.0           77.048432   \n",
       "Cabrera High School                582.0           83.061895   \n",
       "Figueroa High School               639.0           76.711767   \n",
       "Ford High School                   644.0           77.102592   \n",
       "Griffin High School                625.0           83.351499   \n",
       "\n",
       "                      Average Reading Score  % Passing Math  \\\n",
       "Bailey High School                81.033963            3318   \n",
       "Cabrera High School               83.975780            1749   \n",
       "Figueroa High School              81.158020            1946   \n",
       "Ford High School                  80.746258            1871   \n",
       "Griffin High School               83.816757            1371   \n",
       "\n",
       "                      % Passing Reading  % Overall Passing  \n",
       "Bailey High School                 4077          54.642283  \n",
       "Cabrera High School                1803          91.334769  \n",
       "Figueroa High School               2381          53.204476  \n",
       "Ford High School                   2172          54.289887  \n",
       "Griffin High School                1426          90.599455  "
      ]
     },
     "execution_count": 56,
     "metadata": {},
     "output_type": "execute_result"
    }
   ],
   "source": [
    "per_school_summary_df = pd.DataFrame({\n",
    "             \"School Type\": per_school_types,\n",
    "             \"Total Students\": per_school_counts,\n",
    "             \"Total School Budget\": per_school_budget,\n",
    "             \"Per Student Budget\": per_school_capita,\n",
    "             \"Average Math Score\": per_school_math,\n",
    "           \"Average Reading Score\": per_school_reading,\n",
    "           \"% Passing Math\": per_school_passing_math,\n",
    "           \"% Passing Reading\": per_school_passing_reading,\n",
    "           \"% Overall Passing\": per_overall_passing_percentage})\n",
    "per_school_summary_df.head()"
   ]
  },
  {
   "cell_type": "code",
   "execution_count": 57,
   "id": "fc24a8c1",
   "metadata": {},
   "outputs": [],
   "source": [
    "per_school_summary_df[\"Total School Budget\"] = per_school_summary_df[\"Total School Budget\"].map(\"${:,.2f}\".format)"
   ]
  },
  {
   "cell_type": "code",
   "execution_count": 58,
   "id": "101a8edc",
   "metadata": {},
   "outputs": [],
   "source": [
    "per_school_summary_df[\"Per Student Budget\"] = per_school_summary_df[\"Per Student Budget\"].map(\"${:,.2f}\".format)"
   ]
  },
  {
   "cell_type": "code",
   "execution_count": 63,
   "id": "e5ffe4a7",
   "metadata": {},
   "outputs": [
    {
     "data": {
      "text/html": [
       "<div>\n",
       "<style scoped>\n",
       "    .dataframe tbody tr th:only-of-type {\n",
       "        vertical-align: middle;\n",
       "    }\n",
       "\n",
       "    .dataframe tbody tr th {\n",
       "        vertical-align: top;\n",
       "    }\n",
       "\n",
       "    .dataframe thead th {\n",
       "        text-align: right;\n",
       "    }\n",
       "</style>\n",
       "<table border=\"1\" class=\"dataframe\">\n",
       "  <thead>\n",
       "    <tr style=\"text-align: right;\">\n",
       "      <th></th>\n",
       "      <th>School Type</th>\n",
       "      <th>Total Students</th>\n",
       "      <th>Total School Budget</th>\n",
       "      <th>Per Student Budget</th>\n",
       "      <th>Average Math Score</th>\n",
       "      <th>Average Reading Score</th>\n",
       "      <th>% Passing Math</th>\n",
       "      <th>% Passing Reading</th>\n",
       "      <th>% Overall Passing</th>\n",
       "    </tr>\n",
       "  </thead>\n",
       "  <tbody>\n",
       "    <tr>\n",
       "      <th>Bailey High School</th>\n",
       "      <td>District</td>\n",
       "      <td>4976</td>\n",
       "      <td>$3,124,928.00</td>\n",
       "      <td>$628.00</td>\n",
       "      <td>77.048432</td>\n",
       "      <td>81.033963</td>\n",
       "      <td>3318</td>\n",
       "      <td>4077</td>\n",
       "      <td>54.642283</td>\n",
       "    </tr>\n",
       "    <tr>\n",
       "      <th>Cabrera High School</th>\n",
       "      <td>Charter</td>\n",
       "      <td>1858</td>\n",
       "      <td>$1,081,356.00</td>\n",
       "      <td>$582.00</td>\n",
       "      <td>83.061895</td>\n",
       "      <td>83.975780</td>\n",
       "      <td>1749</td>\n",
       "      <td>1803</td>\n",
       "      <td>91.334769</td>\n",
       "    </tr>\n",
       "    <tr>\n",
       "      <th>Figueroa High School</th>\n",
       "      <td>District</td>\n",
       "      <td>2949</td>\n",
       "      <td>$1,884,411.00</td>\n",
       "      <td>$639.00</td>\n",
       "      <td>76.711767</td>\n",
       "      <td>81.158020</td>\n",
       "      <td>1946</td>\n",
       "      <td>2381</td>\n",
       "      <td>53.204476</td>\n",
       "    </tr>\n",
       "    <tr>\n",
       "      <th>Ford High School</th>\n",
       "      <td>District</td>\n",
       "      <td>2739</td>\n",
       "      <td>$1,763,916.00</td>\n",
       "      <td>$644.00</td>\n",
       "      <td>77.102592</td>\n",
       "      <td>80.746258</td>\n",
       "      <td>1871</td>\n",
       "      <td>2172</td>\n",
       "      <td>54.289887</td>\n",
       "    </tr>\n",
       "    <tr>\n",
       "      <th>Griffin High School</th>\n",
       "      <td>Charter</td>\n",
       "      <td>1468</td>\n",
       "      <td>$917,500.00</td>\n",
       "      <td>$625.00</td>\n",
       "      <td>83.351499</td>\n",
       "      <td>83.816757</td>\n",
       "      <td>1371</td>\n",
       "      <td>1426</td>\n",
       "      <td>90.599455</td>\n",
       "    </tr>\n",
       "  </tbody>\n",
       "</table>\n",
       "</div>"
      ],
      "text/plain": [
       "                     School Type  Total Students Total School Budget  \\\n",
       "Bailey High School      District            4976       $3,124,928.00   \n",
       "Cabrera High School      Charter            1858       $1,081,356.00   \n",
       "Figueroa High School    District            2949       $1,884,411.00   \n",
       "Ford High School        District            2739       $1,763,916.00   \n",
       "Griffin High School      Charter            1468         $917,500.00   \n",
       "\n",
       "                     Per Student Budget  Average Math Score  \\\n",
       "Bailey High School              $628.00           77.048432   \n",
       "Cabrera High School             $582.00           83.061895   \n",
       "Figueroa High School            $639.00           76.711767   \n",
       "Ford High School                $644.00           77.102592   \n",
       "Griffin High School             $625.00           83.351499   \n",
       "\n",
       "                      Average Reading Score  % Passing Math  \\\n",
       "Bailey High School                81.033963            3318   \n",
       "Cabrera High School               83.975780            1749   \n",
       "Figueroa High School              81.158020            1946   \n",
       "Ford High School                  80.746258            1871   \n",
       "Griffin High School               83.816757            1371   \n",
       "\n",
       "                      % Passing Reading  % Overall Passing  \n",
       "Bailey High School                 4077          54.642283  \n",
       "Cabrera High School                1803          91.334769  \n",
       "Figueroa High School               2381          53.204476  \n",
       "Ford High School                   2172          54.289887  \n",
       "Griffin High School                1426          90.599455  "
      ]
     },
     "execution_count": 63,
     "metadata": {},
     "output_type": "execute_result"
    }
   ],
   "source": [
    "per_school_summary_df.head()"
   ]
  },
  {
   "cell_type": "code",
   "execution_count": null,
   "id": "475b5802",
   "metadata": {},
   "outputs": [],
   "source": []
  }
 ],
 "metadata": {
  "kernelspec": {
   "display_name": "PythonData",
   "language": "python",
   "name": "pythondata"
  },
  "language_info": {
   "codemirror_mode": {
    "name": "ipython",
    "version": 3
   },
   "file_extension": ".py",
   "mimetype": "text/x-python",
   "name": "python",
   "nbconvert_exporter": "python",
   "pygments_lexer": "ipython3",
   "version": "3.7.11"
  }
 },
 "nbformat": 4,
 "nbformat_minor": 5
}
