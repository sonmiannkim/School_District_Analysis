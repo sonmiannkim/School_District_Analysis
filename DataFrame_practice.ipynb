{
 "cells": [
  {
   "cell_type": "code",
   "execution_count": 1,
   "id": "f3bc4dd8",
   "metadata": {},
   "outputs": [],
   "source": [
    "import pandas as pd"
   ]
  },
  {
   "cell_type": "code",
   "execution_count": 2,
   "id": "31d30dc2",
   "metadata": {},
   "outputs": [
    {
     "data": {
      "text/html": [
       "<div>\n",
       "<style scoped>\n",
       "    .dataframe tbody tr th:only-of-type {\n",
       "        vertical-align: middle;\n",
       "    }\n",
       "\n",
       "    .dataframe tbody tr th {\n",
       "        vertical-align: top;\n",
       "    }\n",
       "\n",
       "    .dataframe thead th {\n",
       "        text-align: right;\n",
       "    }\n",
       "</style>\n",
       "<table border=\"1\" class=\"dataframe\">\n",
       "  <thead>\n",
       "    <tr style=\"text-align: right;\">\n",
       "      <th></th>\n",
       "      <th>Input_state</th>\n",
       "      <th>Comp#</th>\n",
       "      <th>Input_RBC</th>\n",
       "      <th>Input_FeeNumber</th>\n",
       "      <th>Input_Dist</th>\n",
       "      <th>Fee</th>\n",
       "      <th>Flag</th>\n",
       "      <th>NB_amount</th>\n",
       "      <th>PandV</th>\n",
       "      <th>Spread</th>\n",
       "      <th>Installmentfee</th>\n",
       "      <th>Installment</th>\n",
       "      <th>Reinstate</th>\n",
       "      <th>3rdParty</th>\n",
       "      <th>Generic</th>\n",
       "      <th>Generic_amount</th>\n",
       "    </tr>\n",
       "  </thead>\n",
       "  <tbody>\n",
       "    <tr>\n",
       "      <th>0</th>\n",
       "      <td>TN</td>\n",
       "      <td>01</td>\n",
       "      <td>222</td>\n",
       "      <td>211</td>\n",
       "      <td>A</td>\n",
       "      <td>Paper Document Fee</td>\n",
       "      <td>Y</td>\n",
       "      <td>10</td>\n",
       "      <td>N</td>\n",
       "      <td>N</td>\n",
       "      <td>N</td>\n",
       "      <td>0.0</td>\n",
       "      <td>0</td>\n",
       "      <td>N</td>\n",
       "      <td>Y</td>\n",
       "      <td>0</td>\n",
       "    </tr>\n",
       "    <tr>\n",
       "      <th>1</th>\n",
       "      <td>TN</td>\n",
       "      <td>01</td>\n",
       "      <td>222</td>\n",
       "      <td>213</td>\n",
       "      <td>A</td>\n",
       "      <td>Late Fee</td>\n",
       "      <td>N</td>\n",
       "      <td>0</td>\n",
       "      <td>N</td>\n",
       "      <td>N</td>\n",
       "      <td>N</td>\n",
       "      <td>0.0</td>\n",
       "      <td>0</td>\n",
       "      <td>N</td>\n",
       "      <td>Y</td>\n",
       "      <td>10</td>\n",
       "    </tr>\n",
       "    <tr>\n",
       "      <th>2</th>\n",
       "      <td>GA</td>\n",
       "      <td>03</td>\n",
       "      <td>181</td>\n",
       "      <td>204</td>\n",
       "      <td>A</td>\n",
       "      <td>Policy Fee</td>\n",
       "      <td>Y</td>\n",
       "      <td>25</td>\n",
       "      <td>P</td>\n",
       "      <td>N</td>\n",
       "      <td>N</td>\n",
       "      <td>0.0</td>\n",
       "      <td>0</td>\n",
       "      <td>N</td>\n",
       "      <td>Y</td>\n",
       "      <td>0</td>\n",
       "    </tr>\n",
       "    <tr>\n",
       "      <th>3</th>\n",
       "      <td>GA</td>\n",
       "      <td>03</td>\n",
       "      <td>181</td>\n",
       "      <td>204</td>\n",
       "      <td>A</td>\n",
       "      <td>Policy Fee</td>\n",
       "      <td>Y</td>\n",
       "      <td>25</td>\n",
       "      <td>P</td>\n",
       "      <td>Y</td>\n",
       "      <td>N</td>\n",
       "      <td>0.0</td>\n",
       "      <td>0</td>\n",
       "      <td>N</td>\n",
       "      <td>Y</td>\n",
       "      <td>0</td>\n",
       "    </tr>\n",
       "    <tr>\n",
       "      <th>4</th>\n",
       "      <td>GA</td>\n",
       "      <td>1D</td>\n",
       "      <td>S01</td>\n",
       "      <td>204</td>\n",
       "      <td>A</td>\n",
       "      <td>Policy Fee</td>\n",
       "      <td>Y</td>\n",
       "      <td>25</td>\n",
       "      <td>P</td>\n",
       "      <td>Y</td>\n",
       "      <td>N</td>\n",
       "      <td>0.0</td>\n",
       "      <td>0</td>\n",
       "      <td>N</td>\n",
       "      <td>Y</td>\n",
       "      <td>0</td>\n",
       "    </tr>\n",
       "  </tbody>\n",
       "</table>\n",
       "</div>"
      ],
      "text/plain": [
       "  Input_state Comp# Input_RBC  Input_FeeNumber Input_Dist                 Fee  \\\n",
       "0          TN    01       222              211          A  Paper Document Fee   \n",
       "1          TN    01       222              213          A            Late Fee   \n",
       "2          GA    03       181              204          A          Policy Fee   \n",
       "3          GA    03       181              204          A          Policy Fee   \n",
       "4          GA    1D       S01              204          A          Policy Fee   \n",
       "\n",
       "  Flag  NB_amount PandV Spread Installmentfee  Installment  Reinstate  \\\n",
       "0    Y         10     N      N              N          0.0          0   \n",
       "1    N          0     N      N              N          0.0          0   \n",
       "2    Y         25     P      N              N          0.0          0   \n",
       "3    Y         25     P      Y              N          0.0          0   \n",
       "4    Y         25     P      Y              N          0.0          0   \n",
       "\n",
       "  3rdParty Generic  Generic_amount  \n",
       "0        N       Y               0  \n",
       "1        N       Y              10  \n",
       "2        N       Y               0  \n",
       "3        N       Y               0  \n",
       "4        N       Y               0  "
      ]
     },
     "execution_count": 2,
     "metadata": {},
     "output_type": "execute_result"
    }
   ],
   "source": [
    "#Read the school data file and store it in a Pandas DataFrame.\n",
    "fees_data_to_load = \"resources/fees_uniq.xlsx\"\n",
    "data_df = pd.read_excel(fees_data_to_load)\n",
    "data_df.head()"
   ]
  },
  {
   "cell_type": "code",
   "execution_count": 3,
   "id": "3395b7ae",
   "metadata": {},
   "outputs": [],
   "source": [
    "data_df_fee_Y = data_df[data_df['Flag'] =='Y']"
   ]
  },
  {
   "cell_type": "code",
   "execution_count": 6,
   "id": "46d0dc8e",
   "metadata": {},
   "outputs": [
    {
     "data": {
      "text/plain": [
       "array([211, 204, 207, 189, 210, 101, 102, 103, 104, 105], dtype=int64)"
      ]
     },
     "execution_count": 6,
     "metadata": {},
     "output_type": "execute_result"
    }
   ],
   "source": [
    "data_df_fee_Y.Input_FeeNumber.unique()"
   ]
  },
  {
   "cell_type": "code",
   "execution_count": 8,
   "id": "17037ce6",
   "metadata": {},
   "outputs": [
    {
     "data": {
      "text/plain": [
       "Input_state        932\n",
       "Comp#              932\n",
       "Input_RBC          932\n",
       "Input_FeeNumber    932\n",
       "Input_Dist         932\n",
       "Fee                932\n",
       "Flag               932\n",
       "NB_amount          932\n",
       "PandV              932\n",
       "Spread             932\n",
       "Installmentfee     932\n",
       "Installment        932\n",
       "Reinstate          932\n",
       "3rdParty           932\n",
       "Generic            932\n",
       "Generic_amount     932\n",
       "dtype: int64"
      ]
     },
     "execution_count": 8,
     "metadata": {},
     "output_type": "execute_result"
    }
   ],
   "source": [
    "data_df_fee_Spread = data_df[data_df['Spread'] =='Y']\n",
    "#data_df_fee_Spread.head()\n",
    "data_df_fee_Spread.count()"
   ]
  },
  {
   "cell_type": "code",
   "execution_count": 14,
   "id": "8376e265",
   "metadata": {},
   "outputs": [
    {
     "data": {
      "text/plain": [
       "Input_state         object\n",
       "Comp#               object\n",
       "Input_RBC           object\n",
       "Input_FeeNumber      int64\n",
       "Input_Dist          object\n",
       "Fee                 object\n",
       "Flag                object\n",
       "NB_amount            int64\n",
       "PandV               object\n",
       "Spread              object\n",
       "Installmentfee      object\n",
       "Installment        float64\n",
       "Reinstate            int64\n",
       "3rdParty            object\n",
       "Generic             object\n",
       "Generic_amount       int64\n",
       "dtype: object"
      ]
     },
     "execution_count": 14,
     "metadata": {},
     "output_type": "execute_result"
    }
   ],
   "source": [
    "data_df_fee_Spread.dtypes"
   ]
  },
  {
   "cell_type": "code",
   "execution_count": 15,
   "id": "3de29cac",
   "metadata": {},
   "outputs": [
    {
     "data": {
      "text/plain": [
       "2"
      ]
     },
     "execution_count": 15,
     "metadata": {},
     "output_type": "execute_result"
    }
   ],
   "source": [
    "data_df_fee_Spread.ndim"
   ]
  },
  {
   "cell_type": "code",
   "execution_count": 16,
   "id": "5a118449",
   "metadata": {},
   "outputs": [
    {
     "data": {
      "text/plain": [
       "(932, 16)"
      ]
     },
     "execution_count": 16,
     "metadata": {},
     "output_type": "execute_result"
    }
   ],
   "source": [
    "data_df_fee_Spread.shape"
   ]
  },
  {
   "cell_type": "code",
   "execution_count": null,
   "id": "3e6d98ab",
   "metadata": {},
   "outputs": [],
   "source": []
  }
 ],
 "metadata": {
  "kernelspec": {
   "display_name": "PythonData",
   "language": "python",
   "name": "pythondata"
  },
  "language_info": {
   "codemirror_mode": {
    "name": "ipython",
    "version": 3
   },
   "file_extension": ".py",
   "mimetype": "text/x-python",
   "name": "python",
   "nbconvert_exporter": "python",
   "pygments_lexer": "ipython3",
   "version": "3.7.11"
  }
 },
 "nbformat": 4,
 "nbformat_minor": 5
}
